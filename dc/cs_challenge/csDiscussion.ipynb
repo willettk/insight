{
 "cells": [
  {
   "cell_type": "markdown",
   "metadata": {},
   "source": [
    "# Discussion of CS coding challenge\n",
    "\n",
    "### Kyle Willett\n",
    "#### 28 Jul 2016"
   ]
  },
  {
   "cell_type": "markdown",
   "metadata": {},
   "source": [
    "My code solving the CS challenge of sorting a list of strings while separating integers and strings was written in Python. The code itself is [here](https://github.com/willettk/insight/blob/master/dc/cs_challenge/sortThis.py) and the accompanying suite of tests is [here](https://github.com/willettk/insight/blob/master/dc/cs_challenge/testSuite.py). \n",
    "\n",
    "I tried to minimize the number of external packages used in solving this problem. The only imports beyond the standard Python namespace are `sys` (which is needed to handle arguments from the command line) and `collections.deque`. The latter is part of the core Python package, but does need to be imported. A *deque* isn't strictly necessary to solve the problem, as I could have replicated the same behavior by slicing a list from the front and end. The coding is slightly simpler, though, and may save slightly on run time. \n",
    "\n",
    "The run time for this algorithm isn't particularly efficient. There are at least four operations of $\\mathcal{O}[n]$ (where $n$ is the length of the string in characters), including reading and writing the file, checking every character for non-alphanumeric or `-` values, and then placing sorted values into a new array. Separate subsets of words and integers are sorted using the Python native *timsort*, which has average performance of $\\mathcal{O}[n\\log n]$. Processing a list of 2 million elements as reverse-sorted integers (one of the longest and most pathological cases I could think of) takes ~6 seconds on my laptop. \n",
    "\n",
    "If I were to work on this further, I'd add:\n",
    "\n",
    "* consideration for Unicode characters\n",
    "* more test cases\n",
    "* splitting the functions in `sortThis.py` into more basic units\n",
    "* consideration of uppercase vs. lowercase strings"
   ]
  },
  {
   "cell_type": "code",
   "execution_count": null,
   "metadata": {
    "collapsed": true
   },
   "outputs": [],
   "source": []
  }
 ],
 "metadata": {
  "kernelspec": {
   "display_name": "Python 2",
   "language": "python",
   "name": "python2"
  },
  "language_info": {
   "codemirror_mode": {
    "name": "ipython",
    "version": 2
   },
   "file_extension": ".py",
   "mimetype": "text/x-python",
   "name": "python",
   "nbconvert_exporter": "python",
   "pygments_lexer": "ipython2",
   "version": "2.7.11"
  }
 },
 "nbformat": 4,
 "nbformat_minor": 0
}
