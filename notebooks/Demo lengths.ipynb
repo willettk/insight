{
 "cells": [
  {
   "cell_type": "code",
   "execution_count": 12,
   "metadata": {
    "collapsed": false
   },
   "outputs": [],
   "source": [
    "%matplotlib inline\n",
    "\n",
    "import pandas as pd\n",
    "import seaborn as sns\n",
    "from matplotlib import pyplot as plt"
   ]
  },
  {
   "cell_type": "code",
   "execution_count": 2,
   "metadata": {
    "collapsed": true
   },
   "outputs": [],
   "source": [
    "data = [(\"Cindy    \",\"3:45\"),\n",
    "(\"Dan      \",\"3:52\"),\n",
    "(\"Dylan    \",\"3:45\"),\n",
    "(\"Ikenna   \",\"3:05\"),\n",
    "(\"Jimmy    \",\"4:27\"),\n",
    "(\"Kyle     \",\"4:11\"),\n",
    "(\"Lois     \",\"4:14\"),\n",
    "(\"Natalie  \",\"3:24\"),\n",
    "(\"Peter    \",\"4:41\"),\n",
    "(\"Swetha   \",\"3:13\"),\n",
    "(\"Amelia   \",\"3:46\"),\n",
    "(\"Cindy    \",\"4:12\"),\n",
    "(\"Dan      \",\"3:53\"),\n",
    "(\"Dylan    \",\"3:23\"),\n",
    "(\"Ikenna   \",\"3:23\"),\n",
    "(\"Jimmy    \",\"4:45\"),\n",
    "(\"Kyle     \",\"4:31\"),\n",
    "(\"Natalie  \",\"3:36\"),\n",
    "(\"Peter    \",\"4:20\"),\n",
    "(\"Swetha   \",\"3:20\"),\n",
    "(\"Amelia   \",\"4:20\"),\n",
    "(\"Cindy    \",\"5:09\"),\n",
    "(\"Dylan    \",\"3:39\"),\n",
    "(\"Ikenna   \",\"3:15\"),\n",
    "(\"Jimmy    \",\"4:23\"),\n",
    "(\"Kyle     \",\"4:17\"),\n",
    "(\"Lois     \",\"5:18\"),\n",
    "(\"Melanie  \",\"4:02\"),\n",
    "(\"Natalie  \",\"3:34\"),\n",
    "(\"Swetha   \",\"3:10\"),\n",
    "(\"Lois     \",\"5:00\"),\n",
    "(\"Amelia   \",\"3:50\"),\n",
    "(\"Dan      \",\"3:49\"),\n",
    "(\"Dylan    \",\"3:24\"),\n",
    "(\"Ikenna   \",\"3:28\"),\n",
    "(\"JF       \",\"4:12\"),\n",
    "(\"Jimmy    \",\"4:02\"),\n",
    "(\"Josh     \",\"4:45\"),\n",
    "(\"Melanie  \",\"3:50\"),\n",
    "(\"Noah     \",\"4:22\"),\n",
    "(\"Dan      \",\"3:56\"),\n",
    "(\"Dylan    \",\"3:22\"),\n",
    "(\"Ikenna   \",\"3:43\"),\n",
    "(\"Jimmy    \",\"4:02\"),\n",
    "(\"Kyle     \",\"4:09\"),\n",
    "(\"Melanie  \",\"3:57\"),\n",
    "(\"Noah     \",\"4:10\"),\n",
    "(\"Peter    \",\"4:15\"),\n",
    "(\"Cindy    \",\"4:02\"),\n",
    "(\"Ikenna   \",\"3:56\"),\n",
    "(\"JF       \",\"4:20\"),\n",
    "(\"Jimmy    \",\"4:22\"),\n",
    "(\"Josh     \",\"4:21\"),\n",
    "(\"Kyle     \",\"4:40\"),\n",
    "(\"Melanie  \",\"3:30\"),\n",
    "(\"Natalie  \",\"3:48\"),\n",
    "(\"Noah     \",\"4:19\"),\n",
    "(\"Peter    \",\"4:02\"),\n",
    "(\"Dan      \",\"4:02\"),\n",
    "(\"Dylan    \",\"3:12\"),\n",
    "(\"Ikenna   \",\"3:45\"),\n",
    "(\"JF       \",\"4:18\"),\n",
    "(\"Josh     \",\"4:29\"),\n",
    "(\"Lois     \",\"4:27\"),\n",
    "(\"Melanie  \",\"3:40\"),\n",
    "(\"Natalie  \",\"3:31\"),\n",
    "(\"Noah     \",\"4:14\"),\n",
    "(\"Peter    \",\"4:04\"),\n",
    "(\"Amelia   \",\"4:21\"),\n",
    "(\"Cindy    \",\"5:17\"),\n",
    "(\"JF       \",\"4:20\"),\n",
    "(\"Kyle     \",\"4:40\"),\n",
    "(\"Noah     \",\"3:55\"),\n",
    "(\"Swetha   \",\"3:13\")]"
   ]
  },
  {
   "cell_type": "code",
   "execution_count": 24,
   "metadata": {
    "collapsed": true
   },
   "outputs": [],
   "source": [
    "data.sort()"
   ]
  },
  {
   "cell_type": "code",
   "execution_count": 20,
   "metadata": {
    "collapsed": false
   },
   "outputs": [],
   "source": [
    "names = [n.strip() for n,z in data]\n",
    "times = [pd.Timedelta(\"00:0\"+z) for n,z in data]"
   ]
  },
  {
   "cell_type": "code",
   "execution_count": 21,
   "metadata": {
    "collapsed": false
   },
   "outputs": [],
   "source": [
    "df = pd.DataFrame({'name':names,'time':times})"
   ]
  },
  {
   "cell_type": "code",
   "execution_count": 22,
   "metadata": {
    "collapsed": false
   },
   "outputs": [
    {
     "data": {
      "text/html": [
       "<div>\n",
       "<table border=\"1\" class=\"dataframe\">\n",
       "  <thead>\n",
       "    <tr style=\"text-align: right;\">\n",
       "      <th></th>\n",
       "      <th>name</th>\n",
       "      <th>time</th>\n",
       "    </tr>\n",
       "  </thead>\n",
       "  <tbody>\n",
       "    <tr>\n",
       "      <th>0</th>\n",
       "      <td>Amelia</td>\n",
       "      <td>00:03:46</td>\n",
       "    </tr>\n",
       "    <tr>\n",
       "      <th>1</th>\n",
       "      <td>Amelia</td>\n",
       "      <td>00:03:50</td>\n",
       "    </tr>\n",
       "    <tr>\n",
       "      <th>2</th>\n",
       "      <td>Amelia</td>\n",
       "      <td>00:04:20</td>\n",
       "    </tr>\n",
       "    <tr>\n",
       "      <th>3</th>\n",
       "      <td>Amelia</td>\n",
       "      <td>00:04:21</td>\n",
       "    </tr>\n",
       "    <tr>\n",
       "      <th>4</th>\n",
       "      <td>Cindy</td>\n",
       "      <td>00:03:45</td>\n",
       "    </tr>\n",
       "  </tbody>\n",
       "</table>\n",
       "</div>"
      ],
      "text/plain": [
       "     name     time\n",
       "0  Amelia 00:03:46\n",
       "1  Amelia 00:03:50\n",
       "2  Amelia 00:04:20\n",
       "3  Amelia 00:04:21\n",
       "4   Cindy 00:03:45"
      ]
     },
     "execution_count": 22,
     "metadata": {},
     "output_type": "execute_result"
    }
   ],
   "source": [
    "df.head()"
   ]
  },
  {
   "cell_type": "code",
   "execution_count": 23,
   "metadata": {
    "collapsed": false
   },
   "outputs": [
    {
     "data": {
      "image/png": "[encoded data removed]",
      "text/plain": [
       "<matplotlib.figure.Figure at 0x10a46fd10>"
      ]
     },
     "metadata": {},
     "output_type": "display_data"
    }
   ],
   "source": [
    "fig = plt.figure(figsize=(10,6))\n",
    "bp = sns.boxplot(x='name',y='time',data=df)\n",
    "plt.axhline(y=2.4e11, linewidth=2, color = 'r', ls='--')\n",
    "plt.xlabel(\"Fellow\",fontsize=16)\n",
    "plt.ylabel(\"Demo time [nsec]\",fontsize=16)\n",
    "plt.xticks(rotation=45,fontsize=12);"
   ]
  },
  {
   "cell_type": "code",
   "execution_count": null,
   "metadata": {
    "collapsed": true
   },
   "outputs": [],
   "source": []
  }
 ],
 "metadata": {
  "kernelspec": {
   "display_name": "Python 2",
   "language": "python",
   "name": "python2"
  },
  "language_info": {
   "codemirror_mode": {
    "name": "ipython",
    "version": 2
   },
   "file_extension": ".py",
   "mimetype": "text/x-python",
   "name": "python",
   "nbconvert_exporter": "python",
   "pygments_lexer": "ipython2",
   "version": "2.7.11"
  }
 },
 "nbformat": 4,
 "nbformat_minor": 0
}
