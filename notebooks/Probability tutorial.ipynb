{
 "cells": [
  {
   "cell_type": "markdown",
   "metadata": {},
   "source": [
    "# Probability tutorial\n",
    "\n",
    "## Problems by Peter Komar\n",
    "\n",
    "#### 18 Jul 2016"
   ]
  },
  {
   "cell_type": "markdown",
   "metadata": {},
   "source": [
    "Sample problems from Peter Komar; after trying to analytically solve everything, Monte Carlo and see if I'm right. "
   ]
  },
  {
   "cell_type": "code",
   "execution_count": 53,
   "metadata": {
    "collapsed": true
   },
   "outputs": [],
   "source": [
    "def compare(analytic,N,f):\n",
    "    errval = err(f,N)\n",
    "    successes = sum(f)\n",
    "    print \"Analytic prediction: {:.0f}%.\".format(analytic*100.)\n",
    "    print \"Monte Carlo: {:.0f} +- {:.0f}%.\".format(successes/float(N)*100.,errval*100.)"
   ]
  },
  {
   "cell_type": "code",
   "execution_count": 161,
   "metadata": {
    "collapsed": true
   },
   "outputs": [],
   "source": [
    "def err(fx,N):\n",
    "    # http://www.northeastern.edu/afeiguin/phys5870/phys5870/node71.html\n",
    "    f2 = [x*x for x in fx]\n",
    "    return np.sqrt((1./N * sum(f2) - (1./N * sum(fx))**2)/float(N))"
   ]
  },
  {
   "cell_type": "markdown",
   "metadata": {},
   "source": [
    "### Forward probability"
   ]
  },
  {
   "cell_type": "markdown",
   "metadata": {},
   "source": [
    "**Question 1**"
   ]
  },
  {
   "cell_type": "markdown",
   "metadata": {},
   "source": [
    "Q1: *What is the probability of light rain on both days?*"
   ]
  },
  {
   "cell_type": "code",
   "execution_count": 39,
   "metadata": {
    "collapsed": false
   },
   "outputs": [],
   "source": [
    "import numpy as np\n",
    "from numpy.random import binomial"
   ]
  },
  {
   "cell_type": "code",
   "execution_count": 77,
   "metadata": {
    "collapsed": true
   },
   "outputs": [],
   "source": [
    "# Default is 1000 trials each\n",
    "\n",
    "N = 1000"
   ]
  },
  {
   "cell_type": "code",
   "execution_count": 54,
   "metadata": {
    "collapsed": false
   },
   "outputs": [
    {
     "name": "stdout",
     "output_type": "stream",
     "text": [
      "Analytic prediction: 9%.\n",
      "Monte Carlo: 8 +- 1%.\n"
     ]
    }
   ],
   "source": [
    "p_rain_sat = 0.5\n",
    "p_rain_sun = 0.2\n",
    "\n",
    "p_light_sat = 0.9\n",
    "p_heavy_sat = 0.1\n",
    "\n",
    "p_light_sun = 1.0\n",
    "p_heavy_sun = 0.0\n",
    "\n",
    "f = []\n",
    "for i in range(N):\n",
    "    # Light rain on Saturday?\n",
    "    rain_sat = binomial(1,p_rain_sat)\n",
    "    if rain_sat:\n",
    "        light_sat = binomial(1,p_light_sat)\n",
    "    else:\n",
    "        light_sat = 0\n",
    "    # Light rain on Sunday?\n",
    "    rain_sun = binomial(1,p_rain_sun)\n",
    "    if rain_sun:\n",
    "        light_sun = binomial(1,p_light_sun)\n",
    "    else:\n",
    "        light_sun = 0\n",
    "    if light_sat and light_sun:\n",
    "        f.append(1)\n",
    "    else:\n",
    "        f.append(0)\n",
    "\n",
    "compare(9/100.,N,f)"
   ]
  },
  {
   "cell_type": "markdown",
   "metadata": {},
   "source": [
    "Q2: *What is the probability of rain during the weekend?*"
   ]
  },
  {
   "cell_type": "code",
   "execution_count": 55,
   "metadata": {
    "collapsed": false
   },
   "outputs": [
    {
     "name": "stdout",
     "output_type": "stream",
     "text": [
      "Analytic prediction: 60%.\n",
      "Monte Carlo: 61 +- 3%.\n"
     ]
    }
   ],
   "source": [
    "f = []\n",
    "for i in range(N):\n",
    "    # Light rain on either day?\n",
    "    rain_sat = binomial(1,p_rain_sat)\n",
    "    rain_sun = binomial(1,p_rain_sun)\n",
    "    if rain_sat or rain_sun:\n",
    "        f.append(1)\n",
    "    else:\n",
    "        f.append(0)\n",
    "\n",
    "compare(60/100.,N,f)"
   ]
  },
  {
   "cell_type": "markdown",
   "metadata": {},
   "source": [
    "**Question 2**"
   ]
  },
  {
   "cell_type": "markdown",
   "metadata": {},
   "source": [
    "Q1: *With what probability are the two drawn pieces of candy different?*"
   ]
  },
  {
   "cell_type": "code",
   "execution_count": 13,
   "metadata": {
    "collapsed": true
   },
   "outputs": [],
   "source": [
    "from random import randint"
   ]
  },
  {
   "cell_type": "code",
   "execution_count": 56,
   "metadata": {
    "collapsed": false
   },
   "outputs": [
    {
     "name": "stdout",
     "output_type": "stream",
     "text": [
      "Analytic prediction: 45%.\n",
      "Monte Carlo: 45 +- 3%.\n"
     ]
    }
   ],
   "source": [
    "f = []\n",
    "for i in range(N):\n",
    "    # Draw candy from bag 1\n",
    "    r1 = randint(0,6)\n",
    "    if r1 < 3:\n",
    "        candy1 = \"taffy\"\n",
    "    else:\n",
    "        candy1 = \"caramel\"\n",
    "        \n",
    "    # Draw candy from bag 2\n",
    "    r2 = randint(0,5)\n",
    "    if r2 == 0:\n",
    "        candy2 = \"taffy\"\n",
    "    else:\n",
    "        candy2 = \"caramel\"\n",
    "        \n",
    "    if candy1 is not candy2:\n",
    "        f.append(1)\n",
    "    else:\n",
    "        f.append(0)\n",
    "\n",
    "compare(19/42.,N,f)"
   ]
  },
  {
   "cell_type": "markdown",
   "metadata": {},
   "source": [
    "Q2: *With what probability are the two drawn pieces of candy different if they are drawn from the same (but randomly chosen) bag?*"
   ]
  },
  {
   "cell_type": "code",
   "execution_count": 58,
   "metadata": {
    "collapsed": false
   },
   "outputs": [
    {
     "name": "stdout",
     "output_type": "stream",
     "text": [
      "Analytic prediction: 55%.\n",
      "Monte Carlo: 52 +- 3%.\n"
     ]
    }
   ],
   "source": [
    "f = []\n",
    "for i in range(N):\n",
    "    # Choose the bag\n",
    "    \n",
    "    bag = binomial(1,0.5)\n",
    "    if bag:\n",
    "        # Bag 1\n",
    "        \n",
    "        # First draw\n",
    "        r1 = randint(0,6)\n",
    "        if r1 < 3:\n",
    "            candy1 = \"taffy\"\n",
    "        else:\n",
    "            candy1 = \"caramel\"\n",
    "            \n",
    "        # Second draw\n",
    "        r2 = randint(0,5)\n",
    "        if candy1 is \"taffy\":\n",
    "            if r2 < 2:\n",
    "                candy2 = \"taffy\"\n",
    "            else:\n",
    "                candy2 = \"caramel\"\n",
    "        else:\n",
    "            if r2 < 3:\n",
    "                candy2 = \"taffy\"\n",
    "            else:\n",
    "                candy2 = \"caramel\"\n",
    "                \n",
    "    else:\n",
    "        # Bag 2\n",
    "\n",
    "         # First draw\n",
    "        r1 = randint(0,5)\n",
    "        if r1 < 2:\n",
    "            candy1 = \"taffy\"\n",
    "        else:\n",
    "            candy1 = \"caramel\"\n",
    "            \n",
    "        # Second draw\n",
    "        r2 = randint(0,4)\n",
    "        if candy1 is \"caramel\":\n",
    "            if r2 < 4:\n",
    "                candy2 = \"caramel\"\n",
    "            else:\n",
    "                candy2 = \"taffy\"\n",
    "        else:\n",
    "            candy2 = \"caramel\"\n",
    "        \n",
    "    if candy1 is not candy2:\n",
    "        f.append(1)\n",
    "    else:\n",
    "        f.append(0)\n",
    "\n",
    "compare(23/42.,N,f)"
   ]
  },
  {
   "cell_type": "markdown",
   "metadata": {},
   "source": [
    "** Question 3 **"
   ]
  },
  {
   "cell_type": "markdown",
   "metadata": {},
   "source": [
    "**Q: What is the expectation value and standard deviation of the reward?**"
   ]
  },
  {
   "cell_type": "code",
   "execution_count": 78,
   "metadata": {
    "collapsed": false
   },
   "outputs": [
    {
     "name": "stdout",
     "output_type": "stream",
     "text": [
      "Analytic:    2.50 +- 82\n",
      "Monte Carlo: 4.02 +- 79\n"
     ]
    }
   ],
   "source": [
    "p_H = 0.5\n",
    "\n",
    "f = []\n",
    "for i in range(N):\n",
    "    # Flip coin 1\n",
    "    c1 = binomial(1,p_H)    \n",
    "    # Flip coin 2\n",
    "    c2 = binomial(1,p_H)    \n",
    "    # Flip coin 3\n",
    "    c3 = binomial(1,p_H)\n",
    "    \n",
    "    total_heads = c1 + c2 + c3\n",
    "    # Three heads\n",
    "    if total_heads == 3:\n",
    "        reward = 100\n",
    "    if total_heads == 2:\n",
    "        reward = 40\n",
    "    if total_heads == 1:\n",
    "        reward = 0\n",
    "    if total_heads == 0:\n",
    "        reward = -200\n",
    "    f.append(reward)\n",
    "\n",
    "print \"Analytic:    {:.2f} +- {:.0f}\".format(20/8.,82)\n",
    "print \"Monte Carlo: {:.2f} +- {:.0f}\".format(np.mean(f),np.std(f))"
   ]
  },
  {
   "cell_type": "markdown",
   "metadata": {},
   "source": [
    "**Question 4**"
   ]
  },
  {
   "cell_type": "markdown",
   "metadata": {},
   "source": [
    "*Q1: What is the probability that Potter, Granger, and Weasley are standing next to each other?*"
   ]
  },
  {
   "cell_type": "code",
   "execution_count": 85,
   "metadata": {
    "collapsed": false
   },
   "outputs": [
    {
     "name": "stdout",
     "output_type": "stream",
     "text": [
      "Analytic prediction: 7%.\n",
      "Monte Carlo: 6 +- 1%.\n"
     ]
    }
   ],
   "source": [
    "n = 10\n",
    "f = []\n",
    "for i in range(N):\n",
    "    line = range(n)\n",
    "    np.random.shuffle(line)\n",
    "    \n",
    "    # Assume Potter, Granger, Weasley correspond to 0, 1, and 2\n",
    "    \n",
    "    indices = [line.index(person) for person in (0,1,2)]\n",
    "    if max(indices) - min(indices) == 2:\n",
    "        f.append(1)\n",
    "\n",
    "compare(1/15.,N,f)"
   ]
  },
  {
   "cell_type": "markdown",
   "metadata": {},
   "source": [
    "*Q2: What is the probability that Potter, Granger, and Weasley are standing next to each other if the line is a circle?*"
   ]
  },
  {
   "cell_type": "code",
   "execution_count": 91,
   "metadata": {
    "collapsed": false
   },
   "outputs": [
    {
     "name": "stdout",
     "output_type": "stream",
     "text": [
      "Analytic prediction: 8%.\n",
      "Monte Carlo: 7 +- 1%.\n"
     ]
    }
   ],
   "source": [
    "f = []\n",
    "for i in range(N):\n",
    "    line = range(n)\n",
    "    np.random.shuffle(line)\n",
    "    \n",
    "    # Assume Potter, Granger, Weasley correspond to 0, 1, and 2\n",
    "    \n",
    "    indices = [line.index(person) for person in (0,1,2)]\n",
    "    if max(indices) - min(indices) == 2:\n",
    "        f.append(1)\n",
    "    else:\n",
    "        # Shift line halfway around and check again\n",
    "        line = list(np.roll(line,n//2))\n",
    "        indices = [line.index(person) for person in (0,1,2)]\n",
    "        if max(indices) - min(indices) == 2:\n",
    "            f.append(1)\n",
    "            \n",
    "compare(1/12.,N,f)"
   ]
  },
  {
   "cell_type": "markdown",
   "metadata": {},
   "source": [
    "**Question 5**"
   ]
  },
  {
   "cell_type": "markdown",
   "metadata": {},
   "source": [
    "*Q: What is the probability that c dances with gamma?*"
   ]
  },
  {
   "cell_type": "code",
   "execution_count": 93,
   "metadata": {
    "collapsed": false
   },
   "outputs": [
    {
     "name": "stdout",
     "output_type": "stream",
     "text": [
      "Analytic prediction: 20%.\n",
      "Monte Carlo: 20 +- 2%.\n"
     ]
    }
   ],
   "source": [
    "f = []\n",
    "for i in range(N):\n",
    "    guys = ['a','b','c','d','e']\n",
    "    gals = ['alpha','beta','gamma','delta','epsilon']\n",
    "    np.random.shuffle(guys)\n",
    "    np.random.shuffle(gals)\n",
    "    if guys.index('c') == gals.index('gamma'):\n",
    "        f.append(1)\n",
    "        \n",
    "compare(1./5,N,f)"
   ]
  },
  {
   "cell_type": "markdown",
   "metadata": {},
   "source": [
    "**Question 6**"
   ]
  },
  {
   "cell_type": "markdown",
   "metadata": {},
   "source": [
    "*Q: What is the probability that Derrick and Gaurav end up in the same group?*"
   ]
  },
  {
   "cell_type": "code",
   "execution_count": 97,
   "metadata": {
    "collapsed": false
   },
   "outputs": [
    {
     "name": "stdout",
     "output_type": "stream",
     "text": [
      "Analytic prediction: 30%.\n",
      "Monte Carlo: 30 +- 2%.\n"
     ]
    }
   ],
   "source": [
    "f = []\n",
    "for i in range(N):\n",
    "    fellows = range(21)\n",
    "    np.random.shuffle(fellows)\n",
    "    # Derrick = 0, Gaurav = 1\n",
    "    group_derrick = fellows.index(0)//7\n",
    "    group_gaurav = fellows.index(1)//7\n",
    "    if group_derrick == group_gaurav:\n",
    "        f.append(1)\n",
    "        \n",
    "compare(0.30,N,f)"
   ]
  },
  {
   "cell_type": "markdown",
   "metadata": {},
   "source": [
    "**Question 7**"
   ]
  },
  {
   "cell_type": "markdown",
   "metadata": {},
   "source": [
    "*Q: What is the probability that stocking A gets no candy?*"
   ]
  },
  {
   "cell_type": "code",
   "execution_count": 112,
   "metadata": {
    "collapsed": false
   },
   "outputs": [
    {
     "name": "stdout",
     "output_type": "stream",
     "text": [
      "Analytic prediction: 6%.\n",
      "Monte Carlo: 6 +- 1%.\n"
     ]
    }
   ],
   "source": [
    "f = []\n",
    "for i in range(N):\n",
    "    a,b,c,d = 0,0,0,0\n",
    "    for candy in range(10):\n",
    "        selection = randint(0,3)\n",
    "        if selection == 0:\n",
    "            a += 1        \n",
    "        if selection == 1:\n",
    "            b += 1        \n",
    "        if selection == 2:\n",
    "            c += 1        \n",
    "        if selection == 3:\n",
    "            d += 1\n",
    "        \n",
    "    if a == 0:\n",
    "        f.append(1)\n",
    "            \n",
    "compare(0.75**10,N,f)"
   ]
  },
  {
   "cell_type": "markdown",
   "metadata": {},
   "source": [
    "**Question 8**"
   ]
  },
  {
   "cell_type": "markdown",
   "metadata": {},
   "source": [
    "*Q1: What is the probability that we get two 1s in the first twenty throws?*"
   ]
  },
  {
   "cell_type": "code",
   "execution_count": 139,
   "metadata": {
    "collapsed": false
   },
   "outputs": [
    {
     "name": "stdout",
     "output_type": "stream",
     "text": [
      "Analytic prediction: 29%.\n",
      "Monte Carlo: 28 +- 2%.\n"
     ]
    }
   ],
   "source": [
    "n = 20\n",
    "f = []\n",
    "for i in range(N):\n",
    "    throws = np.random.randint(1,11,n)\n",
    "    counts = np.bincount(throws)\n",
    "    if counts[1] == 2:\n",
    "        f.append(1)\n",
    "        \n",
    "analytic = 10**(np.log10(190) + 18*np.log10(9) - 20)  \n",
    "compare(analytic,N,f)"
   ]
  },
  {
   "cell_type": "markdown",
   "metadata": {},
   "source": [
    "*Q2: What is the probability that we get the first 1 in the tenth throw?*"
   ]
  },
  {
   "cell_type": "code",
   "execution_count": 145,
   "metadata": {
    "collapsed": false
   },
   "outputs": [
    {
     "name": "stdout",
     "output_type": "stream",
     "text": [
      "Analytic prediction: 4%.\n",
      "Monte Carlo: 4 +- 1%.\n"
     ]
    }
   ],
   "source": [
    "n = 10\n",
    "f = []\n",
    "for i in range(N):\n",
    "    throws = np.random.randint(1,11,n)\n",
    "    counts = np.bincount(throws)\n",
    "    if counts[1] == 1 and throws[-1] == 1:\n",
    "        f.append(1)\n",
    "        \n",
    "analytic = 0.9**9 * 0.1\n",
    "compare(analytic,N,f)"
   ]
  },
  {
   "cell_type": "markdown",
   "metadata": {},
   "source": [
    "*Q3: What is the probability that we get the third 1 on the thirtieth throw?*"
   ]
  },
  {
   "cell_type": "code",
   "execution_count": 166,
   "metadata": {
    "collapsed": false
   },
   "outputs": [
    {
     "name": "stdout",
     "output_type": "stream",
     "text": [
      "Analytic prediction: 2%.\n",
      "Monte Carlo: 4 +- 1%.\n"
     ]
    }
   ],
   "source": [
    "n = 30\n",
    "f = []\n",
    "for i in range(N):\n",
    "    throws = np.random.randint(1,11,n)\n",
    "    counts = np.bincount(throws)\n",
    "    if counts[1] == 3 and throws[-1] == 1:\n",
    "        f.append(1)\n",
    "        \n",
    "analytic = (29*28/2. * 0.9**27 * 0.1**2) * 0.1\n",
    "compare(analytic,N,f)"
   ]
  },
  {
   "cell_type": "code",
   "execution_count": null,
   "metadata": {
    "collapsed": true
   },
   "outputs": [],
   "source": []
  }
 ],
 "metadata": {
  "kernelspec": {
   "display_name": "Python 2",
   "language": "python",
   "name": "python2"
  },
  "language_info": {
   "codemirror_mode": {
    "name": "ipython",
    "version": 2
   },
   "file_extension": ".py",
   "mimetype": "text/x-python",
   "name": "python",
   "nbconvert_exporter": "python",
   "pygments_lexer": "ipython2",
   "version": "2.7.11"
  }
 },
 "nbformat": 4,
 "nbformat_minor": 0
}
