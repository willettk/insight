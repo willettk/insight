{
 "cells": [
  {
   "cell_type": "markdown",
   "metadata": {},
   "source": [
    "# Exploring the ICIJ Offshore Leaks database\n",
    "\n",
    "## Kyle Willett\n",
    "\n",
    "### 20 Jul 2016"
   ]
  },
  {
   "cell_type": "markdown",
   "metadata": {},
   "source": [
    "One basic question is to assess the demographics of the companies involved, many of whom fit historical definitions of [tax havens](http://www.investopedia.com/terms/t/taxhaven.asp). In the past, these include countries with small populations, overseas territories, and unstable or non-democratic governments. \n",
    "\n",
    "I examined the data in the [Offshore ICIJ database](https://offshoreleaks.icij.org/) to see if the companies involved are associated with countries fitting these characteristics, or whether there's a broader set of locations involved. Matching the address nodes against population and business count identifies a group of roughly a **dozen nations** responsible for a disproportionate fraction of offshore businesses, particularly focusing on small island nations and British overseas dependencies. The **British Virgin Islands** had by far the highest ratio of offshore business to total population. Institutions in these countries should be high-priority candidates for follow-up investigations into illegal offshore activity. \n",
    "\n",
    "While processing the data, I also devised a method to better clean the data and merge nodes that were originally designated as separate locations. Using measures of similarity on text processing, **3%** of the address nodes can be merged in the ICIJ database. "
   ]
  },
  {
   "cell_type": "code",
   "execution_count": 1,
   "metadata": {
    "collapsed": false
   },
   "outputs": [],
   "source": [
    "%matplotlib inline\n",
    "\n",
    "# Import packages\n",
    "\n",
    "import pandas as pd\n",
    "import numpy as np\n",
    "import seaborn as sns\n",
    "from matplotlib import pyplot as plt"
   ]
  },
  {
   "cell_type": "code",
   "execution_count": 2,
   "metadata": {
    "collapsed": false
   },
   "outputs": [],
   "source": [
    "# Load in data from the Panama Papers ICIJ site (set of CSV files)\n",
    "\n",
    "addresses = pd.read_csv(\"Addresses.csv\",\n",
    "                        dtype={'address':str,\n",
    "                               'icij_id':str,\n",
    "                               'valid_until':str,\n",
    "                               'country_codes':str,\n",
    "                               'countries':str,\n",
    "                               'node_id':np.int64,\n",
    "                               'sourceID':str})"
   ]
  },
  {
   "cell_type": "markdown",
   "metadata": {},
   "source": [
    "Look briefly at structure and content of the `addresses` file."
   ]
  },
  {
   "cell_type": "code",
   "execution_count": 3,
   "metadata": {
    "collapsed": false
   },
   "outputs": [
    {
     "data": {
      "text/html": [
       "<div>\n",
       "<table border=\"1\" class=\"dataframe\">\n",
       "  <thead>\n",
       "    <tr style=\"text-align: right;\">\n",
       "      <th></th>\n",
       "      <th>address</th>\n",
       "      <th>icij_id</th>\n",
       "      <th>valid_until</th>\n",
       "      <th>country_codes</th>\n",
       "      <th>countries</th>\n",
       "      <th>node_id</th>\n",
       "      <th>sourceID</th>\n",
       "    </tr>\n",
       "  </thead>\n",
       "  <tbody>\n",
       "    <tr>\n",
       "      <th>0</th>\n",
       "      <td>-\\t27 ROSEWOOD DRIVE #16-19 SINGAPORE 737920</td>\n",
       "      <td>6991059DFFB057DF310B9BF31CC4A0E6</td>\n",
       "      <td>The Panama Papers  data is current through 2015</td>\n",
       "      <td>SGP</td>\n",
       "      <td>Singapore</td>\n",
       "      <td>14000001</td>\n",
       "      <td>Panama Papers</td>\n",
       "    </tr>\n",
       "    <tr>\n",
       "      <th>1</th>\n",
       "      <td>\"Almaly Village\" v.5, Almaty Kazakhstan</td>\n",
       "      <td>C65A269424AA1A8BBAC416FA30150938</td>\n",
       "      <td>The Panama Papers  data is current through 2015</td>\n",
       "      <td>KAZ</td>\n",
       "      <td>Kazakhstan</td>\n",
       "      <td>14000002</td>\n",
       "      <td>Panama Papers</td>\n",
       "    </tr>\n",
       "    <tr>\n",
       "      <th>2</th>\n",
       "      <td>\"Cantonia\" South Road St Georges Hill Weybridg...</td>\n",
       "      <td>240EE44DFB70AF775E6CD02AF8CB889B</td>\n",
       "      <td>The Panama Papers  data is current through 2015</td>\n",
       "      <td>GBR</td>\n",
       "      <td>United Kingdom</td>\n",
       "      <td>14000003</td>\n",
       "      <td>Panama Papers</td>\n",
       "    </tr>\n",
       "    <tr>\n",
       "      <th>3</th>\n",
       "      <td>\"CAY-OS\" NEW ROAD; ST.SAMPSON; GUERNSEY; CHANN...</td>\n",
       "      <td>340C6D3D2FC60AE58C53BB3618129C43</td>\n",
       "      <td>The Panama Papers  data is current through 2015</td>\n",
       "      <td>GGY</td>\n",
       "      <td>Guernsey</td>\n",
       "      <td>14000004</td>\n",
       "      <td>Panama Papers</td>\n",
       "    </tr>\n",
       "    <tr>\n",
       "      <th>4</th>\n",
       "      <td>\"Chirag\" Plot No 652; Mwamba Road; Kizingo; Mo...</td>\n",
       "      <td>6DBCD74F5AAB63EABC166885CE8CD7CD</td>\n",
       "      <td>The Panama Papers  data is current through 2015</td>\n",
       "      <td>KEN</td>\n",
       "      <td>Kenya</td>\n",
       "      <td>14000005</td>\n",
       "      <td>Panama Papers</td>\n",
       "    </tr>\n",
       "  </tbody>\n",
       "</table>\n",
       "</div>"
      ],
      "text/plain": [
       "                                             address  \\\n",
       "0       -\\t27 ROSEWOOD DRIVE #16-19 SINGAPORE 737920   \n",
       "1            \"Almaly Village\" v.5, Almaty Kazakhstan   \n",
       "2  \"Cantonia\" South Road St Georges Hill Weybridg...   \n",
       "3  \"CAY-OS\" NEW ROAD; ST.SAMPSON; GUERNSEY; CHANN...   \n",
       "4  \"Chirag\" Plot No 652; Mwamba Road; Kizingo; Mo...   \n",
       "\n",
       "                            icij_id  \\\n",
       "0  6991059DFFB057DF310B9BF31CC4A0E6   \n",
       "1  C65A269424AA1A8BBAC416FA30150938   \n",
       "2  240EE44DFB70AF775E6CD02AF8CB889B   \n",
       "3  340C6D3D2FC60AE58C53BB3618129C43   \n",
       "4  6DBCD74F5AAB63EABC166885CE8CD7CD   \n",
       "\n",
       "                                       valid_until country_codes  \\\n",
       "0  The Panama Papers  data is current through 2015           SGP   \n",
       "1  The Panama Papers  data is current through 2015           KAZ   \n",
       "2  The Panama Papers  data is current through 2015           GBR   \n",
       "3  The Panama Papers  data is current through 2015           GGY   \n",
       "4  The Panama Papers  data is current through 2015           KEN   \n",
       "\n",
       "        countries   node_id       sourceID  \n",
       "0       Singapore  14000001  Panama Papers  \n",
       "1      Kazakhstan  14000002  Panama Papers  \n",
       "2  United Kingdom  14000003  Panama Papers  \n",
       "3        Guernsey  14000004  Panama Papers  \n",
       "4           Kenya  14000005  Panama Papers  "
      ]
     },
     "execution_count": 3,
     "metadata": {},
     "output_type": "execute_result"
    }
   ],
   "source": [
    "addresses.head()"
   ]
  },
  {
   "cell_type": "markdown",
   "metadata": {},
   "source": [
    "While the number of addresses and companies at each location can be counted, that doesn't give any context as to whether the smaller countries (with more distinct characteristics) are represented at unusual frequencies. As an initial estimate, we'll compare it to the country's total population (future metrics could include things like GDP, international memberships, numbers of banks, etc). "
   ]
  },
  {
   "cell_type": "code",
   "execution_count": 4,
   "metadata": {
    "collapsed": false
   },
   "outputs": [],
   "source": [
    "# Load 2015 population data from World Bank\n",
    "\n",
    "popfile = \"API_SP.POP.TOTL_DS2_en_csv_v2.csv\"\n",
    "country_name = []\n",
    "country_code = []\n",
    "pop_2015 = []\n",
    "with open(popfile,'r') as f:\n",
    "    for idx,line in enumerate(f):\n",
    "        if idx > 5:\n",
    "            s = line.split(\",\")\n",
    "            country_name.append(s[0].strip()[1:-1])\n",
    "            country_code.append(s[1].strip()[1:-1])\n",
    "            pop_2015.append(int((s[-2].strip()[1:-1]).split(\".\")[0]))"
   ]
  },
  {
   "cell_type": "markdown",
   "metadata": {},
   "source": [
    "Link the two datasets (Panama Papers and population)"
   ]
  },
  {
   "cell_type": "code",
   "execution_count": 5,
   "metadata": {
    "collapsed": false
   },
   "outputs": [],
   "source": [
    "# Join the dataframes\n",
    "\n",
    "dfpop = pd.DataFrame(index=country_code,data={\"country_name\":country_name,\"population\":pop_2015})\n",
    "\n",
    "# Add a new column that counts the number of addresses in each country\n",
    "\n",
    "counted = addresses.groupby('country_codes').count()['countries']\n",
    "joined = dfpop.join(counted)\n",
    "joined.rename(columns = {'countries':'address_count'}, inplace = True)"
   ]
  },
  {
   "cell_type": "markdown",
   "metadata": {},
   "source": [
    "Now that we have all the data in a single frame, let's look at the results. Start by simply plotting the population against the number of addresses per country. If there's no strong preference toward tax havens, the two values should be strongly correlated. "
   ]
  },
  {
   "cell_type": "code",
   "execution_count": 6,
   "metadata": {
    "collapsed": false
   },
   "outputs": [
    {
     "data": {
      "image/png": "[encoded data removed]",
      "text/plain": [
       "<matplotlib.figure.Figure at 0x11424f7d0>"
      ]
     },
     "metadata": {},
     "output_type": "display_data"
    }
   ],
   "source": [
    "# Plot as a scatter plot\n",
    "\n",
    "good = np.isfinite(joined.address_count)\n",
    "joined[good].plot(x='population',y='address_count',\n",
    "                  kind='scatter',\n",
    "                  loglog=True,\n",
    "                  figsize=(8,8));"
   ]
  },
  {
   "cell_type": "markdown",
   "metadata": {},
   "source": [
    "There's definitely a trend (even within log space), but quite a lot of scatter and outliers. For example, one country in the top 10 for overall address count is in the bottom 5 for population. "
   ]
  },
  {
   "cell_type": "code",
   "execution_count": 7,
   "metadata": {
    "collapsed": false
   },
   "outputs": [
    {
     "data": {
      "text/html": [
       "<div>\n",
       "<table border=\"1\" class=\"dataframe\">\n",
       "  <thead>\n",
       "    <tr style=\"text-align: right;\">\n",
       "      <th></th>\n",
       "      <th>population</th>\n",
       "      <th>address_count</th>\n",
       "    </tr>\n",
       "  </thead>\n",
       "  <tbody>\n",
       "    <tr>\n",
       "      <th>population</th>\n",
       "      <td>1.000000</td>\n",
       "      <td>0.561871</td>\n",
       "    </tr>\n",
       "    <tr>\n",
       "      <th>address_count</th>\n",
       "      <td>0.561871</td>\n",
       "      <td>1.000000</td>\n",
       "    </tr>\n",
       "  </tbody>\n",
       "</table>\n",
       "</div>"
      ],
      "text/plain": [
       "               population  address_count\n",
       "population       1.000000       0.561871\n",
       "address_count    0.561871       1.000000"
      ]
     },
     "execution_count": 7,
     "metadata": {},
     "output_type": "execute_result"
    }
   ],
   "source": [
    "# Check the actual correlation value\n",
    "\n",
    "joined.corr()"
   ]
  },
  {
   "cell_type": "markdown",
   "metadata": {},
   "source": [
    "This value (0.561) tells us that the data are mildly correlated, but not with high statistical significance. \n",
    "\n",
    "That gives the overall distribution; let's look at the countries dominating the high and low ends of the data. "
   ]
  },
  {
   "cell_type": "code",
   "execution_count": 8,
   "metadata": {
    "collapsed": false
   },
   "outputs": [
    {
     "name": "stdout",
     "output_type": "stream",
     "text": [
      "Countries with the highest number of addresses\n",
      "\n",
      "      country_name  population  address_count\n",
      "CHN          China  1371220000          28073\n",
      "HKG      Hong Kong     7305700          21041\n",
      "USA  United States   321418820           6860\n",
      "SGP      Singapore     5535002           5728\n",
      "RUS         Russia   144096812           5534\n",
      "\n",
      "Countries with the lowest number of addresses\n",
      "\n",
      "                 country_name  population  address_count\n",
      "MNP  Northern Mariana Islands       55070              1\n",
      "GNB             Guinea-Bissau     1844325              1\n",
      "BTN                    Bhutan      774830              1\n",
      "SMR                San Marino       31781              1\n",
      "GNQ         Equatorial Guinea      845060              1\n"
     ]
    }
   ],
   "source": [
    "print \"Countries with the highest number of addresses\\n\\n\",joined.sort_values(\n",
    "    by=\"address_count\",ascending=False).head()\n",
    "print \"\"\n",
    "print \"Countries with the lowest number of addresses\\n\\n\",joined.sort_values(\n",
    "    by=\"address_count\",ascending=True).head()"
   ]
  },
  {
   "cell_type": "markdown",
   "metadata": {},
   "source": [
    "So the top five correlate with three of the most populous countries in the world (US, China, Russia) and two smaller countries that are known for being [business and financial capitals](https://en.wikipedia.org/wiki/Four_Asian_Tigers) (Hong Kong, Singapore). The bottom five include a US dependency, two of the smallest countries on the African mainland, a European micronation, and the relatively isolated Asian nation of Bhutan."
   ]
  },
  {
   "cell_type": "markdown",
   "metadata": {},
   "source": [
    "So let's clarify the question further, and move away from absolute numbers to a ratio. What are the countries that are **statistically over-represented** in terms of their population to business ratio?"
   ]
  },
  {
   "cell_type": "code",
   "execution_count": 9,
   "metadata": {
    "collapsed": false
   },
   "outputs": [],
   "source": [
    "ratio = joined.address_count / joined.population\n",
    "joined['pop_bus_ratio'] = ratio"
   ]
  },
  {
   "cell_type": "code",
   "execution_count": 10,
   "metadata": {
    "collapsed": false
   },
   "outputs": [
    {
     "data": {
      "image/png": "[encoded data removed]",
      "text/plain": [
       "<matplotlib.figure.Figure at 0x115ebd690>"
      ]
     },
     "metadata": {},
     "output_type": "display_data"
    }
   ],
   "source": [
    "# Plot the results (in log space) as a histogram\n",
    "\n",
    "fig,ax = plt.subplots(1,1,figsize=(8,6))\n",
    "p = sns.distplot(np.log10(joined[good].pop_bus_ratio), kde=False, color=\"b\",ax=ax)\n",
    "p.set_xlabel('log ratio of population to number of businesses')\n",
    "p.set_ylabel('Count');"
   ]
  },
  {
   "cell_type": "markdown",
   "metadata": {},
   "source": [
    "So even by eye, there's a clear skew and a long tail to the right of the distribution. The high value here indicates countries with many more addresses/businesses per capita citizen than expected."
   ]
  },
  {
   "cell_type": "code",
   "execution_count": 11,
   "metadata": {
    "collapsed": false
   },
   "outputs": [
    {
     "data": {
      "text/html": [
       "<div>\n",
       "<table border=\"1\" class=\"dataframe\">\n",
       "  <thead>\n",
       "    <tr style=\"text-align: right;\">\n",
       "      <th></th>\n",
       "      <th>country_name</th>\n",
       "      <th>population</th>\n",
       "      <th>address_count</th>\n",
       "      <th>pop_bus_ratio</th>\n",
       "    </tr>\n",
       "  </thead>\n",
       "  <tbody>\n",
       "    <tr>\n",
       "      <th>VGB</th>\n",
       "      <td>British Virgin Islands</td>\n",
       "      <td>30117</td>\n",
       "      <td>4125</td>\n",
       "      <td>0.136966</td>\n",
       "    </tr>\n",
       "    <tr>\n",
       "      <th>LIE</th>\n",
       "      <td>Liechtenstein</td>\n",
       "      <td>37531</td>\n",
       "      <td>690</td>\n",
       "      <td>0.018385</td>\n",
       "    </tr>\n",
       "    <tr>\n",
       "      <th>MCO</th>\n",
       "      <td>Monaco</td>\n",
       "      <td>37731</td>\n",
       "      <td>589</td>\n",
       "      <td>0.015611</td>\n",
       "    </tr>\n",
       "    <tr>\n",
       "      <th>GIB</th>\n",
       "      <td>Gibraltar</td>\n",
       "      <td>32217</td>\n",
       "      <td>440</td>\n",
       "      <td>0.013657</td>\n",
       "    </tr>\n",
       "    <tr>\n",
       "      <th>IMN</th>\n",
       "      <td>Isle of Man</td>\n",
       "      <td>87780</td>\n",
       "      <td>1171</td>\n",
       "      <td>0.013340</td>\n",
       "    </tr>\n",
       "    <tr>\n",
       "      <th>CYM</th>\n",
       "      <td>Cayman Islands</td>\n",
       "      <td>59967</td>\n",
       "      <td>646</td>\n",
       "      <td>0.010773</td>\n",
       "    </tr>\n",
       "    <tr>\n",
       "      <th>SYC</th>\n",
       "      <td>Seychelles</td>\n",
       "      <td>92900</td>\n",
       "      <td>871</td>\n",
       "      <td>0.009376</td>\n",
       "    </tr>\n",
       "    <tr>\n",
       "      <th>KNA</th>\n",
       "      <td>St. Kitts and Nevis</td>\n",
       "      <td>55572</td>\n",
       "      <td>347</td>\n",
       "      <td>0.006244</td>\n",
       "    </tr>\n",
       "    <tr>\n",
       "      <th>BMU</th>\n",
       "      <td>Bermuda</td>\n",
       "      <td>65235</td>\n",
       "      <td>218</td>\n",
       "      <td>0.003342</td>\n",
       "    </tr>\n",
       "    <tr>\n",
       "      <th>HKG</th>\n",
       "      <td>Hong Kong</td>\n",
       "      <td>7305700</td>\n",
       "      <td>21041</td>\n",
       "      <td>0.002880</td>\n",
       "    </tr>\n",
       "    <tr>\n",
       "      <th>BHS</th>\n",
       "      <td>Bahamas</td>\n",
       "      <td>388019</td>\n",
       "      <td>954</td>\n",
       "      <td>0.002459</td>\n",
       "    </tr>\n",
       "    <tr>\n",
       "      <th>CYP</th>\n",
       "      <td>Cyprus</td>\n",
       "      <td>1165300</td>\n",
       "      <td>2385</td>\n",
       "      <td>0.002047</td>\n",
       "    </tr>\n",
       "    <tr>\n",
       "      <th>MHL</th>\n",
       "      <td>Marshall Islands</td>\n",
       "      <td>52993</td>\n",
       "      <td>97</td>\n",
       "      <td>0.001830</td>\n",
       "    </tr>\n",
       "    <tr>\n",
       "      <th>TCA</th>\n",
       "      <td>Turks and Caicos Islands</td>\n",
       "      <td>34339</td>\n",
       "      <td>53</td>\n",
       "      <td>0.001543</td>\n",
       "    </tr>\n",
       "    <tr>\n",
       "      <th>NRU</th>\n",
       "      <td>Nauru</td>\n",
       "      <td>10222</td>\n",
       "      <td>15</td>\n",
       "      <td>0.001467</td>\n",
       "    </tr>\n",
       "  </tbody>\n",
       "</table>\n",
       "</div>"
      ],
      "text/plain": [
       "                 country_name  population  address_count  pop_bus_ratio\n",
       "VGB    British Virgin Islands       30117           4125       0.136966\n",
       "LIE             Liechtenstein       37531            690       0.018385\n",
       "MCO                    Monaco       37731            589       0.015611\n",
       "GIB                 Gibraltar       32217            440       0.013657\n",
       "IMN               Isle of Man       87780           1171       0.013340\n",
       "CYM            Cayman Islands       59967            646       0.010773\n",
       "SYC                Seychelles       92900            871       0.009376\n",
       "KNA       St. Kitts and Nevis       55572            347       0.006244\n",
       "BMU                   Bermuda       65235            218       0.003342\n",
       "HKG                 Hong Kong     7305700          21041       0.002880\n",
       "BHS                   Bahamas      388019            954       0.002459\n",
       "CYP                    Cyprus     1165300           2385       0.002047\n",
       "MHL          Marshall Islands       52993             97       0.001830\n",
       "TCA  Turks and Caicos Islands       34339             53       0.001543\n",
       "NRU                     Nauru       10222             15       0.001467"
      ]
     },
     "execution_count": 11,
     "metadata": {},
     "output_type": "execute_result"
    }
   ],
   "source": [
    "# What are the names of these countries?\n",
    "\n",
    "joined.sort_values(\"pop_bus_ratio\",ascending=False)[:15]"
   ]
  },
  {
   "cell_type": "markdown",
   "metadata": {},
   "source": [
    "This is more like the definition above; numerous dependencies, lots of micronations and small island countries, and very small average populations overall. "
   ]
  },
  {
   "cell_type": "code",
   "execution_count": 12,
   "metadata": {
    "collapsed": false
   },
   "outputs": [
    {
     "data": {
      "image/png": "[encoded data removed]",
      "text/plain": [
       "<matplotlib.figure.Figure at 0x115ef2710>"
      ]
     },
     "metadata": {},
     "output_type": "display_data"
    }
   ],
   "source": [
    "# Plot the total population versus the ratio constructed above.\n",
    "\n",
    "joined[good].plot(x='population',y='pop_bus_ratio',\n",
    "                  kind='scatter',\n",
    "                  loglog=True,\n",
    "                  figsize=(8,8));"
   ]
  },
  {
   "cell_type": "markdown",
   "metadata": {},
   "source": [
    "So now the data are separating more clearly. Instead of picking a sample by eye, let's try a clustering algorithm on these features and see if the extremes select a similar set of data."
   ]
  },
  {
   "cell_type": "code",
   "execution_count": 13,
   "metadata": {
    "collapsed": true
   },
   "outputs": [],
   "source": [
    "# Use the k-means clustering algorithm from scikit-learn\n",
    "\n",
    "from sklearn.cluster import KMeans\n",
    "\n",
    "n_clusters = 5\n",
    "X = np.log10(np.array(joined[good][['population','pop_bus_ratio']]))\n",
    "y_pred = KMeans(n_clusters=n_clusters).fit_predict(X)"
   ]
  },
  {
   "cell_type": "code",
   "execution_count": 14,
   "metadata": {
    "collapsed": false
   },
   "outputs": [
    {
     "data": {
      "image/png": "[encoded data removed]",
      "text/plain": [
       "<matplotlib.figure.Figure at 0x117a44090>"
      ]
     },
     "metadata": {},
     "output_type": "display_data"
    }
   ],
   "source": [
    "plt.figure(figsize=(8, 8))\n",
    "plt.subplot(111)\n",
    "plt.scatter(X[:, 0], X[:, 1], c=y_pred,cmap=plt.cm.Set1,s=40)\n",
    "plt.xlabel('population')\n",
    "plt.ylabel('pop_bus_ratio');"
   ]
  },
  {
   "cell_type": "code",
   "execution_count": 15,
   "metadata": {
    "collapsed": false
   },
   "outputs": [
    {
     "data": {
      "text/plain": [
       "5.4996211164501014"
      ]
     },
     "execution_count": 15,
     "metadata": {},
     "output_type": "execute_result"
    }
   ],
   "source": [
    "np.mean(X[y_pred == 1,0])"
   ]
  },
  {
   "cell_type": "code",
   "execution_count": 16,
   "metadata": {
    "collapsed": false
   },
   "outputs": [
    {
     "name": "stdout",
     "output_type": "stream",
     "text": [
      "                 country_name  population  address_count  pop_bus_ratio\n",
      "BMU                   Bermuda       65235            218       0.003342\n",
      "CYM            Cayman Islands       59967            646       0.010773\n",
      "DMA                  Dominica       72680             90       0.001238\n",
      "GIB                 Gibraltar       32217            440       0.013657\n",
      "IMN               Isle of Man       87780           1171       0.013340\n",
      "KNA       St. Kitts and Nevis       55572            347       0.006244\n",
      "LIE             Liechtenstein       37531            690       0.018385\n",
      "MCO                    Monaco       37731            589       0.015611\n",
      "MHL          Marshall Islands       52993             97       0.001830\n",
      "NRU                     Nauru       10222             15       0.001467\n",
      "SYC                Seychelles       92900            871       0.009376\n",
      "TCA  Turks and Caicos Islands       34339             53       0.001543\n",
      "VGB    British Virgin Islands       30117           4125       0.136966\n"
     ]
    }
   ],
   "source": [
    "# Look at the countries corresponding to the top left cluster\n",
    "\n",
    "cluster_topleft = 0\n",
    "xmean = max(X[:,0])\n",
    "for i in range(n_clusters):\n",
    "    avgpop = np.mean(X[y_pred == i,0])\n",
    "    if avgpop < xmean:\n",
    "        xmean = avgpop\n",
    "        cluster_topleft = i\n",
    "        \n",
    "print joined[good][y_pred == cluster_topleft]"
   ]
  },
  {
   "cell_type": "markdown",
   "metadata": {},
   "source": [
    "Almost uniformly, these are countries with very small populations (< 100,000). 11/14 are small island countries, and 6/14 are dependencies of the United Kingdom (but with different tax and financial status, which presumably strongly affects the likelihood of choosing to incorporate there). The latter category is really over-represented; the [UN List of Non-Self-Governing Territories](https://en.wikipedia.org/wiki/United_Nations_list_of_Non-Self-Governing_Territories) has only 17 total entries, of which 6 appear in this smaller list of 14. The odds of that happening independently are essentially zero ($p\\simeq10^{-20}$).   \n",
    "\n",
    "The (British) Virgin Islands deserve special mention; their average ratio of population to number of addresses is roughly a factor of 10 higher than **any** other country in the database, with 1 Offshore Leaks business for roughly every 7.3 inhabitants. There could be many reasons for this (including geographical proximity to the Mossack Fonseca offices in Panama), but it's a very clear starting point for further investigations into a wide range of companies. "
   ]
  },
  {
   "cell_type": "code",
   "execution_count": 17,
   "metadata": {
    "collapsed": false
   },
   "outputs": [
    {
     "data": {
      "text/html": [
       "<img src=\"http://i.imgur.com/hpgZsx1.png\"/>"
      ],
      "text/plain": [
       "<IPython.core.display.Image object>"
      ]
     },
     "execution_count": 17,
     "metadata": {},
     "output_type": "execute_result"
    }
   ],
   "source": [
    "# Here are the top 15 countries in the list above colored in bright orange on a world map. Spot any?\n",
    "\n",
    "# Made with https://www.amcharts.com/visited_countries/#MC,LI,IM,GI,KN,TC,VG,BM,DM,KY,SC,MH,NR\n",
    "\n",
    "from IPython.display import Image\n",
    "Image(url=\"http://i.imgur.com/hpgZsx1.png\")"
   ]
  },
  {
   "cell_type": "code",
   "execution_count": 18,
   "metadata": {
    "collapsed": false
   },
   "outputs": [
    {
     "data": {
      "text/html": [
       "<img src=\"http://i.imgur.com/dt5anpZ.png\"/>"
      ],
      "text/plain": [
       "<IPython.core.display.Image object>"
      ]
     },
     "execution_count": 18,
     "metadata": {},
     "output_type": "execute_result"
    }
   ],
   "source": [
    "# Zooming way into the Caribbean, a few of the entries are finally visible.\n",
    "\n",
    "Image(url=\"http://i.imgur.com/dt5anpZ.png\")"
   ]
  },
  {
   "cell_type": "markdown",
   "metadata": {},
   "source": [
    "### Address disambiguation\n",
    "\n",
    "Iterating a little bit more on the addresses would potentially be very useful; small differences between the strings can point to the same place and cause potential overcounting (or make it difficult to merge records that should point to the same node). \n",
    "\n",
    "Can we clean the data any further beyond the original state?"
   ]
  },
  {
   "cell_type": "code",
   "execution_count": 19,
   "metadata": {
    "collapsed": true
   },
   "outputs": [],
   "source": [
    "import jellyfish"
   ]
  },
  {
   "cell_type": "code",
   "execution_count": 20,
   "metadata": {
    "collapsed": true
   },
   "outputs": [],
   "source": [
    "# Group by country; there shouldn't be any need to compare addresses in different countries,\n",
    "# since that would be computationally expensive and we assume that would require a large shift\n",
    "# in the difference between text strings (ie, extremely unlikely to change 1 letter and go from a real address\n",
    "# in North Korea to one in South Africa).\n",
    "\n",
    "grouped = addresses.groupby(\"country_codes\")"
   ]
  },
  {
   "cell_type": "code",
   "execution_count": 21,
   "metadata": {
    "collapsed": false
   },
   "outputs": [
    {
     "name": "stdout",
     "output_type": "stream",
     "text": [
      "225\n"
     ]
    }
   ],
   "source": [
    "# As a test case, let's look at addresses in the last country in the group: Zimbabwe.\n",
    "\n",
    "zw = list(addresses[addresses['country_codes'] == 'ZWE'].address)\n",
    "print len(zw)"
   ]
  },
  {
   "cell_type": "code",
   "execution_count": 22,
   "metadata": {
    "collapsed": false
   },
   "outputs": [],
   "source": [
    "dl = []\n",
    "for idx,z in enumerate(zw):\n",
    "    for z2 in zw[idx+1:]:\n",
    "        try:\n",
    "            dl_ = jellyfish.damerau_levenshtein_distance(unicode(z,'utf-8'),unicode(z2,'utf-8'))\n",
    "            dl.append(dl_)\n",
    "        except:\n",
    "            pass"
   ]
  },
  {
   "cell_type": "code",
   "execution_count": 23,
   "metadata": {
    "collapsed": false
   },
   "outputs": [
    {
     "data": {
      "image/png": "[encoded data removed]",
      "text/plain": [
       "<matplotlib.figure.Figure at 0x117a6aa90>"
      ]
     },
     "metadata": {},
     "output_type": "display_data"
    }
   ],
   "source": [
    "fig,ax = plt.subplots(1,1,figsize=(8,6))\n",
    "p = sns.distplot(dl, kde=False, color=\"b\",ax=ax)\n",
    "p.set_xlabel('Damerau-Levenshtein distance')\n",
    "p.set_ylabel('Count of Zimbabwean addresses');"
   ]
  },
  {
   "cell_type": "markdown",
   "metadata": {},
   "source": [
    "There seems to be a clear peak of duplicates at a D-L distance of only a couple ($<3). Try a couple different sizes and manually evaluate the true positive and true negative rate. "
   ]
  },
  {
   "cell_type": "code",
   "execution_count": 24,
   "metadata": {
    "collapsed": false
   },
   "outputs": [
    {
     "name": "stdout",
     "output_type": "stream",
     "text": [
      "\n",
      " DL <= 1\n",
      "11 Argyl Drive Highlands Harare Zimbabwe -> 11 Argyll Drive Highlands Harare Zimbabwe\n",
      "5 CARNARVON ROAD HILLSIDE BULAWAYO ZIMBABWE -> 5 CARNAVON ROAD HILLSIDE BULAWAYO ZIMBABWE\n",
      "5 CARNAVON ROAD HILLSIDE BULAWAUYO ZIMBABWE -> 5 CARNAVON ROAD HILLSIDE BULAWAYO ZIMBABWE\n",
      "85 Harare Drive; Northwood; Harare; Zimbabwe -> 85 Harere Drive; Northwood; Harare; Zimbabwe\n",
      "The Lodge; 24b Arnold Edmunds Drive; Glen Horne; Harare; Zimbabwe -> The Lodge; 24b Arnold Edmunds Drive; Glen Lorne; Harare; Zimbabwe\n",
      "\n",
      " DL <= 2\n",
      "20 Basset Crescent; Alexander Park; Harare; Zimbabwe -> 20 Basset Crescent; Alexandra Park; Harare; Zimbabwe\n",
      "22 Pevensey Road; Highlands; Harare; Zimbabwe -> 23 Pevensey Road; Highlands; Harare; Zimbawe\n",
      "5 CARNARVON ROAD HILLSIDE BULAWAYO ZIMBABWE -> 5 CARNAVON ROAD HILLSIDE BULAWAUYO ZIMBABWE\n",
      "First Floor CABS Building; Northend Close; Northridge Park; Harare; Zimabwe -> First Floor CABS Building; Northend Close; Northridge Park; Harare; Zimbabwe.\n",
      "Jacobin Investments Limite; 18 Kenilworth Road; Newlands; Harare; Zimbabwe -> Jacobin Investments Limited18 Kenilworth Road; Newlands; Harare; Zimbabwe\n",
      "\n",
      " DL <= 3\n",
      "37 Orange grove Drive; Highlands; Harare; Zimbabwe -> 18 Orange Grove Drive; Highlands; Harare; Zimbabwe\n",
      "632 Price Drive Borrowdale Brooke Harare Zimbabwe -> 638 Price Drive; Borrowdale Brooke Harare; Zimbabwe\n",
      "Box CH 92; Chisipite; Harare; Zimbabwe -> PO Box CH 92; Chisipite; Harare; Zimbabwe\n",
      "First Floor CABS Building; Northend Close; Northridge Park; Harare; Zimbabwe. -> First Floor; CABS Building; Northend Close; Northridge Park; Harare; Zimbawe\n",
      "52 Orange Grove Drive; Highlands Harare; Zimbabwe -> 18 Orange Grove Drive; Highlands; Harare; Zimbabwe\n",
      "12 HUNT ROAD BORROWDALE, HARARE -> 12 HUNT ROAD; BORRROWDALE; HARARE\n",
      "\n",
      " DL <= 4\n",
      "37 Orange grove Drive; Highlands; Harare; Zimbabwe -> 52 Orange Grove Drive; Highlands Harare; Zimbabwe\n",
      "P.O Box CH 760; Chisipite; Harare; Zimbabwe -> PO Box CH 92; Chisipite; Harare; Zimbabwe\n",
      "\n",
      " DL <= 5\n",
      "11 CONCARDE WAY; RIDGEVIEW; HARARE; ZIMBABWE -> 11 CONCORDE WAY; RIDGEWAY; HARARE; ZIMBABWE\n",
      "23 Willowmead Lane; Colne Valley; Harare; Zimbabwe -> 23 Willowmead; Colne Valley; Harare; Zimbabwe\n",
      "27 Maiden Drive; Highlands; Harare; Zimbabwe -> 33 Maiden Drive Highlands Harare Zimbabwe\n",
      "79 Kendal Close; Rolf Valley; Harare; Zimbabwe -> 79 Kendal Close Rozfe Valley Harare Zimbabwe\n",
      "9 Warthog Close; Borrowdale; Harare; Zimbabwe -> 9 Warthog Close; Borrowdale West; Harare; Zimbabwe\n",
      "The Lodge; 24b Arnold Edmunds Drive; Glen Lorne; Harare; Zimbabwe -> The Lodge; Arnold Edmonds Drive; Glen Lorne; Harare; Zimbabwe\n"
     ]
    }
   ],
   "source": [
    "for n in (1,2,3,4,5):\n",
    "    print \"\\n DL <= {}\".format(n)\n",
    "    for idx,z in enumerate(zw):\n",
    "        for z2 in zw[idx+1:]:\n",
    "            try:\n",
    "                dl_ = jellyfish.damerau_levenshtein_distance(unicode(z,'utf-8'),unicode(z2,'utf-8'))\n",
    "                if dl_ == n:\n",
    "                    print \"{} -> {}\".format(z,z2)\n",
    "                    break\n",
    "            except:\n",
    "                pass"
   ]
  },
  {
   "cell_type": "markdown",
   "metadata": {},
   "source": [
    "Assess each address pair manually; simple transpositions or errors are a true positive. A situation where the house number changed, though, could be either a transcription error OR two truly different locations on the same street. To be conservative, the latter will be counted as a false positive.\n",
    "\n",
    "```\n",
    "DL <= 1: TP = 5, FP = 0\n",
    "DL <= 2: TP = 9, FP = 1\n",
    "DL <= 3: TP = 12, FP = 4\n",
    "DL <= 4: TP = 12, FP = 6\n",
    "DL <= 5: TP = 17, FP = 7\n",
    "```\n",
    "\n",
    "The false positive rate increases sharply at DL <= 3. Acting conservatively, we'll only use a DL-distance of 2 for the sample. "
   ]
  },
  {
   "cell_type": "code",
   "execution_count": null,
   "metadata": {
    "collapsed": false
   },
   "outputs": [],
   "source": [
    "# Run algorithm on the entire sample. How many nodes can we merge in the set?\n",
    "\n",
    "dl_threshold = 2\n",
    "\n",
    "duplicate_addresses = {}\n",
    "failed_to_parse = 0\n",
    "for g in grouped:\n",
    "    name = g[0]\n",
    "    print \"Processing {}\".format(name)\n",
    "    duplicate_addresses[name] = 0\n",
    "    lst = list(g[1].address)\n",
    "    if len(lst) > 1:\n",
    "        for idx,add1 in enumerate(lst):\n",
    "            # Don't compare twice and double-count.\n",
    "            for add2 in lst[idx+1:]:\n",
    "                try:\n",
    "                    dl = jellyfish.damerau_levenshtein_distance(unicode(add1,'utf-8'),unicode(add2,'utf-8'))\n",
    "                    if dl <= dl_threshold:\n",
    "                        duplicate_addresses[name] += 1\n",
    "                        break\n",
    "                except:\n",
    "                    failed_to_parse += 1"
   ]
  },
  {
   "cell_type": "code",
   "execution_count": 26,
   "metadata": {
    "collapsed": false
   },
   "outputs": [
    {
     "name": "stdout",
     "output_type": "stream",
     "text": [
      "{'AGO': 3, 'DZA': 0, 'EGY': 5, 'BGD': 0, 'LIE': 71, 'NAM': 1, 'BGR': 0, 'BOL': 0, 'GHA': 1, 'PAK': 9, 'CPV': 1, 'JOR': 17, 'LBR': 5, 'LBY': 1, 'MYS': 71, 'PRI': 0, 'SXM': 0, 'PRK': 0, 'PSE': 1, 'TZA': 1, 'BWA': 2, 'KHM': 0, 'TTO': 0, 'ETH': 0, 'PRY': 0, 'HKG': 575, 'SAU': 21, 'LBN': 17, 'SVN': 1, 'BFA': 0, 'CHE': 123, 'HRV': 0, 'CHL': 2, 'CHN': 439, 'KNA': 40, 'SLE': 0, 'JAM': 1, 'GIB': 60, 'DJI': 0, 'GIN': 0, 'FIN': 0, 'URY': 23, 'THA': 40, 'SYC': 132, 'NPL': 0, 'LAO': 2, 'YEM': 0, 'PHL': 11, 'ZAF': 51, 'NIC': 1, 'ROU': 2, 'VIR': 0, 'SYR': 0, 'MAC': 14, 'MAF': 0, 'MLT': 8, 'KAZ': 1, 'TCA': 4, 'PYF': 0, 'NIU': 1, 'DMA': 7, 'BEN': 0, 'NGA': 0, 'BEL': 9, 'TGO': 0, 'DEU': 6, 'GUM': 0, 'LKA': 1, 'GBR': 148, 'GUY': 0, 'CRI': 5, 'CMR': 0, 'MAR': 0, 'MNP': 0, 'LSO': 1, 'HUN': 6, 'TKM': 0, 'SUR': 0, 'NLD': 7, 'BMU': 15, 'TCD': 1, 'GEO': 3, 'MNE': 3, 'MNG': 2, 'MHL': 10, 'MTQ': 0, 'BLZ': 22, 'MMR': 0, 'NFK': 0, 'VGB': 482, 'BLR': 1, 'GRD': 0, 'GRC': 7, 'AND': 1, 'MOZ': 0, 'TJK': 0, 'HTI': 4, 'MEX': 9, 'ZWE': 9, 'LCA': 1, 'IND': 14, 'LVA': 1, 'BTN': 0, 'VCT': 2, 'VNM': 4, 'NOR': 1, 'CZE': 6, 'ATG': 0, 'FJI': 0, 'HND': 1, 'MUS': 59, 'DOM': 6, 'LUX': 41, 'ISR': 17, 'SMR': 0, 'PER': 13, 'REU': 0, 'IDN': 66, 'VUT': 8, 'MKD': 0, 'COD': 0, 'ISL': 6, 'COK': 9, 'NER': 0, 'COL': 16, 'PRT': 9, 'MDA': 0, 'GGY': 140, 'MDG': 1, 'ECU': 10, 'SEN': 1, 'MDV': 0, 'ASM': 0, 'CUW': 7, 'FRA': 18, 'LTU': 0, 'RWA': 0, 'ZMB': 1, 'GMB': 1, 'JEY': 241, 'GTM': 11, 'DNK': 2, 'IMN': 114, 'AUS': 33, 'AUT': 1, 'VEN': 14, 'KEN': 0, 'WSM': 11, 'TUR': 14, 'ALB': 0, 'OMN': 1, 'ITA': 13, 'BRN': 2, 'TUN': 0, 'RUS': 98, 'BRB': 2, 'BRA': 33, 'CIV': 0, 'SRB': 0, 'GNQ': 0, 'USA': 89, 'QAT': 2, 'SWE': 3, 'AZE': 1, 'GNB': 0, 'SWZ': 1, 'TON': 0, 'CAN': 27, 'UKR': 10, 'KOR': 6, 'AIA': 5, 'CAF': 0, 'SVK': 0, 'CYP': 92, 'BIH': 0, 'SGP': 291, 'TWN': 490, 'XXX': 17, 'SOM': 0, 'UZB': 4, 'POL': 2, 'KWT': 3, 'GAB': 1, 'CYM': 28, 'EST': 1, 'MWI': 1, 'ESP': 5, 'IRQ': 0, 'SLV': 0, 'MLI': 0, 'IRL': 4, 'IRN': 3, 'ABW': 0, 'PNG': 0, 'PAN': 136, 'SDN': 0, 'SLB': 0, 'NZL': 17, 'MCO': 20, 'JPN': 10, 'KGZ': 0, 'UGA': 0, 'ARE': 82, 'ARG': 8, 'BHS': 72, 'BHR': 7, 'ARM': 2, 'NRU': 0, 'CUB': 0}\n"
     ]
    }
   ],
   "source": [
    "print duplicate_addresses"
   ]
  },
  {
   "cell_type": "code",
   "execution_count": 35,
   "metadata": {
    "collapsed": false
   },
   "outputs": [
    {
     "name": "stdout",
     "output_type": "stream",
     "text": [
      "Able to merge 5006 addresses in system (3.3%).\n"
     ]
    }
   ],
   "source": [
    "print \"Able to merge {} addresses in system ({:.1f}%).\".format(sum(duplicate_addresses.values()),\n",
    "                                      sum(duplicate_addresses.values())*100./len(addresses))"
   ]
  },
  {
   "cell_type": "code",
   "execution_count": null,
   "metadata": {
    "collapsed": true
   },
   "outputs": [],
   "source": []
  }
 ],
 "metadata": {
  "kernelspec": {
   "display_name": "Python 2",
   "language": "python",
   "name": "python2"
  },
  "language_info": {
   "codemirror_mode": {
    "name": "ipython",
    "version": 2
   },
   "file_extension": ".py",
   "mimetype": "text/x-python",
   "name": "python",
   "nbconvert_exporter": "python",
   "pygments_lexer": "ipython2",
   "version": "2.7.11"
  }
 },
 "nbformat": 4,
 "nbformat_minor": 0
}
