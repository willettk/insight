{
 "cells": [
  {
   "cell_type": "markdown",
   "metadata": {},
   "source": [
    "Work with http://neuralnetworksanddeeplearning.com/"
   ]
  },
  {
   "cell_type": "code",
   "execution_count": 11,
   "metadata": {
    "collapsed": true
   },
   "outputs": [],
   "source": [
    "%matplotlib inline\n",
    "from matplotlib import pyplot as plt\n",
    "import numpy as np\n",
    "import random"
   ]
  },
  {
   "cell_type": "markdown",
   "metadata": {},
   "source": [
    "# Chapter 1"
   ]
  },
  {
   "cell_type": "code",
   "execution_count": 113,
   "metadata": {
    "collapsed": true
   },
   "outputs": [],
   "source": [
    "def sigmoid(z):\n",
    "    \n",
    "    return 1./(1. + np.exp(-z))\n",
    "\n",
    "def sigmoid_vector(w,x,b):\n",
    "    \n",
    "    return 1./(1. + np.exp(-1 * np.sum(w * x) - b))\n",
    "\n",
    "def sigmoid_prime(z):\n",
    "    \n",
    "    return sigmoid(z) * (1 - sigmoid(z))"
   ]
  },
  {
   "cell_type": "code",
   "execution_count": 114,
   "metadata": {
    "collapsed": false
   },
   "outputs": [
    {
     "data": {
      "image/png": "[encoded data removed]",
      "text/plain": [
       "<matplotlib.figure.Figure at 0x1073425d0>"
      ]
     },
     "metadata": {},
     "output_type": "display_data"
    }
   ],
   "source": [
    "# Plot behavior of sigmoid. Continuous symmetric function, \n",
    "# asymptotically bounded by [0,1] in x = [-inf, inf]\n",
    "\n",
    "x = np.linspace(-10,10)\n",
    "plt.plot(x,sigmoid(x))\n",
    "plt.ylim(-0.05,1.05);"
   ]
  },
  {
   "cell_type": "code",
   "execution_count": 21,
   "metadata": {
    "collapsed": false
   },
   "outputs": [
    {
     "name": "stdout",
     "output_type": "stream",
     "text": [
      "0.973403006423\n"
     ]
    }
   ],
   "source": [
    "# Test the vectorized output\n",
    "\n",
    "w = np.array([1,2,3])\n",
    "x = np.array([0.5,0.5,0.7])\n",
    "b = 0\n",
    "\n",
    "print sigmoid_vector(w,x,b)"
   ]
  },
  {
   "cell_type": "markdown",
   "metadata": {},
   "source": [
    "## Exercises"
   ]
  },
  {
   "cell_type": "markdown",
   "metadata": {},
   "source": [
    "Take all the weights and biases in a network of **perceptrons** and multiply them by a positive constant $c > 0$. Show that the behavior of the network doesn't change. \n",
    "\n",
    "Input: $[x_1,x_2,\\ldots,x_j]$\n",
    "\n",
    "Old behavior\n",
    "\n",
    "- Weights: $[w_1,w_2,\\ldots,w_j]$\n",
    "\n",
    "- Bias: $b$\n",
    "\n",
    "Perceptron output: \n",
    "\n",
    "- output = 0 if $w \\cdot x + b \\leq 0$\n",
    "- output = 1 if $w \\cdot x + b > 0$\n",
    "\n",
    "\n",
    "New input: \n",
    "\n",
    "- $w_\\mathrm{new} = [c w_1,c w_2,\\ldots,c w_j]$\n",
    "\n",
    "- $b_\\mathrm{new} = c b$\n",
    "\n",
    "New output of the perceptron:\n",
    "\n",
    "$w_\\mathrm{new} \\cdot x + b_\\mathrm{new} = c w \\cdot x + c b = c (w \\cdot x + b)$.  \n",
    "\n",
    "This is just a positive scaling, so $w_\\mathrm{new} \\cdot x + b_\\mathrm{new} = w \\cdot x + b$ at 0 and keeps the same sign on either side since $c > 0$. So the behavior of the perceptron network doesn't change."
   ]
  },
  {
   "cell_type": "markdown",
   "metadata": {},
   "source": [
    "Take a network of perceptrons and fix the input $\\boldsymbol{x}$. Assume $\\boldsymbol{w}\\cdot\\boldsymbol{x} + b \\neq 0$ for all perceptrons. \n",
    "\n",
    "Original output:\n",
    "\n",
    "- 0 if $(w \\cdot x + b) < 0$\n",
    "- 1 if $(w \\cdot x + b) > 0$\n",
    "\n",
    "\n",
    "Replace perceptrons with sigmoid functions and multiply both weights and biases by a constant $c > 0$. \n",
    "\n",
    "- $w_\\mathrm{new} = [c w_1,c w_2,\\ldots,c w_j]$\n",
    "\n",
    "- $b_\\mathrm{new} = c b$\n",
    "\n",
    "New output:\n",
    "\n",
    "$\\sigma[c\\boldsymbol{w},\\boldsymbol{x},c b] \\equiv \\frac{1}{1 + \\exp{\\left(-\\sum_j{(c w_j) x_j} - c b\\right)}} = \\frac{1}{1 + \\exp{\\left(c(-\\sum_j{w_j x_j} - b)\\right)}}$\n",
    "\n",
    "As $c \\rightarrow \\infty$, the term $\\exp{\\left(c(-\\sum_j{w_j x_j} - b)\\right)}$ becomes $\\infty$ if $(-\\sum_j{w_j x_j} - b) > 0$, and so $\\sigma \\rightarrow 0$. This is equivalent to $(\\sum_j{w_j x_j} + b) < 0$, or the same as the first output of the perceptron. Similarly, if $(-\\sum_j{w_j x_j} - b) < 0$, then the term goes to 0 and $\\sigma \\rightarrow 1$. So the behavior of the sigmoid network is the same as perceptrons is the same for very large $c$. \n",
    "\n",
    "If $w \\cdot x + b = 0$ for one of the perceptrons, then $\\sigma=1/2$ regardless of the value of $c$. So the sigmoid approximation will fail to match the perceptron output. "
   ]
  },
  {
   "cell_type": "markdown",
   "metadata": {},
   "source": [
    "**Design a set of weights and biases such that digits are converted to their bitwise representation.**"
   ]
  },
  {
   "cell_type": "code",
   "execution_count": 79,
   "metadata": {
    "collapsed": false
   },
   "outputs": [
    {
     "name": "stdout",
     "output_type": "stream",
     "text": [
      "Weights: \n",
      "[[-1. -2. -2. -1.]\n",
      " [ 3. -1. -1. -1.]\n",
      " [-1.  3. -1. -1.]\n",
      " [ 3.  3. -1. -1.]\n",
      " [-1. -1.  3. -1.]\n",
      " [ 3. -1.  3. -1.]\n",
      " [-1.  3.  3. -1.]\n",
      " [ 3.  3.  3. -1.]\n",
      " [-1. -1. -1.  3.]\n",
      " [ 3. -1. -1.  3.]]\n",
      "Bias: -2\n",
      "Bitwise output: \n",
      "[[0 0 0 0]\n",
      " [1 0 0 0]\n",
      " [0 1 0 0]\n",
      " [1 1 0 0]\n",
      " [0 0 1 0]\n",
      " [1 0 1 0]\n",
      " [0 1 1 0]\n",
      " [1 1 1 0]\n",
      " [0 0 0 1]\n",
      " [1 0 0 1]]\n"
     ]
    }
   ],
   "source": [
    "# One set of possible weights and a bias; infinite amount\n",
    "# of legal combinations\n",
    "\n",
    "digits = np.identity(10) * 0.99 + 0.005\n",
    "\n",
    "weights = np.ones((10,4)) * -1\n",
    "\n",
    "weights[1::2,0] = 3\n",
    "weights[2::4,1] = 3\n",
    "weights[3::4,1] = 3\n",
    "weights[4:8,2] = 3\n",
    "weights[8:10,3] = 3\n",
    "weights[0,1:3] = -2\n",
    "\n",
    "bias = -2\n",
    "\n",
    "print \"Weights: \\n{}\".format(weights)\n",
    "\n",
    "print \"Bias: {}\".format(bias)\n",
    "\n",
    "print \"Bitwise output: \\n{}\".format((np.sign(np.dot(digits,weights) + bias).astype(int) + 1) / 2)"
   ]
  },
  {
   "cell_type": "code",
   "execution_count": 139,
   "metadata": {
    "collapsed": false
   },
   "outputs": [],
   "source": [
    "# Initialize the network object\n",
    "\n",
    "class Network(object):\n",
    "    \n",
    "    def __init__(self,sizes):\n",
    "        # Initialize the Network object with random (normal) biases, weights\n",
    "        self.num_layers = len(sizes)\n",
    "        self.sizes = sizes\n",
    "        self.biases = [np.random.randn(y,1) for y in sizes[1:]]\n",
    "        self.weights = [np.random.randn(y,x) for x,y in zip(sizes[:-1],sizes[1:])]\n",
    "\n",
    "    def feedforward(self,a):\n",
    "        # Return the output of the network\n",
    "        \n",
    "        for b,w in zip(self.biases, self.weights):\n",
    "            a = sigmoid(np.dot(w,a) + b)\n",
    "        return a\n",
    "    \n",
    "    def SGD(self, training_data, epochs, mini_batch_size,\n",
    "           eta, test_data=None):\n",
    "        \n",
    "        if test_data:\n",
    "            n_test = len(test_data)\n",
    "        n = len(training_data)\n",
    "        \n",
    "        for j in xrange(epochs):\n",
    "            random.shuffle(training_data)\n",
    "            mini_batches = [training_data[k:k+mini_batch_size] for k in xrange(0,n,mini_batch_size)]\n",
    "            for mini_batch in mini_batches:\n",
    "                self.update_mini_batch(mini_batch,eta)\n",
    "            if test_data:\n",
    "                print \"Epoch {}: {} / {}\".format(j,self.evaluate(test_data),n_test)\n",
    "            else:\n",
    "                print \"Epoch {} complete.\".format(j)\n",
    "                \n",
    "    def update_mini_batch(self,mini_batch,eta):\n",
    "        \n",
    "        nabla_b = [np.zeros(b.shape) for b in self.biases]\n",
    "        nabla_w = [np.zeros(w.shape) for w in self.weights]\n",
    "        \n",
    "        for x,y in mini_batch:\n",
    "            delta_nabla_b, delta_nabla_w = self.backprop(x,y)\n",
    "            nabla_b = [nb + dnb for nb,dnb in zip(nabla_b,delta_nabla_b)]\n",
    "            nabla_w = [nw + dnw for nw,dnw in zip(nabla_w,delta_nabla_w)]\n",
    "        \n",
    "        self.weights = [w - (eta/len(mini_batch))*nw for w,nw in zip(self.weights,nabla_w)]\n",
    "        self.biases = [b - (eta/len(mini_batch))*nb for b,nb in zip(self.biases,nabla_b)]\n",
    "        \n",
    "    def evaluate(self, test_data):\n",
    "        \n",
    "        test_results = [(np.argmax(self.feedforward(x)),y) for (x,y) in test_data]\n",
    "        \n",
    "        return sum(int(x == y) for (x,y) in test_results)\n",
    "    \n",
    "    def backprop(self, x, y):\n",
    "\n",
    "        nabla_b = [np.zeros(b.shape) for b in self.biases]\n",
    "        nabla_w = [np.zeros(w.shape) for w in self.weights]\n",
    "        # feedforward\n",
    "        activation = x\n",
    "        activations = [x] # list to store all the activations, layer by layer\n",
    "        zs = [] # list to store all the z vectors, layer by layer\n",
    "        for b, w in zip(self.biases, self.weights):\n",
    "            z = np.dot(w, activation)+b\n",
    "            zs.append(z)\n",
    "            activation = sigmoid(z)\n",
    "            activations.append(activation)\n",
    "        # backward pass\n",
    "        delta = self.cost_derivative(activations[-1], y) * \\\n",
    "            sigmoid_prime(zs[-1])\n",
    "        nabla_b[-1] = delta\n",
    "        nabla_w[-1] = np.dot(delta, activations[-2].transpose())\n",
    "\n",
    "        for l in xrange(2, self.num_layers):\n",
    "            z = zs[-l]\n",
    "            sp = sigmoid_prime(z)\n",
    "            delta = np.dot(self.weights[-l+1].transpose(), delta) * sp\n",
    "            nabla_b[-l] = delta\n",
    "            nabla_w[-l] = np.dot(delta, activations[-l-1].transpose())\n",
    "        return (nabla_b, nabla_w)\n",
    "    \n",
    "    def cost_derivative(self,output_activations,y):\n",
    "        \n",
    "        return (output_activations - y)\n",
    "    \n"
   ]
  },
  {
   "cell_type": "markdown",
   "metadata": {},
   "source": [
    "Load the MNIST data"
   ]
  },
  {
   "cell_type": "code",
   "execution_count": 118,
   "metadata": {
    "collapsed": true
   },
   "outputs": [],
   "source": [
    "import cPickle as pickle\n",
    "import gzip"
   ]
  },
  {
   "cell_type": "code",
   "execution_count": 121,
   "metadata": {
    "collapsed": true
   },
   "outputs": [],
   "source": [
    "def load_data():\n",
    "    \n",
    "    with gzip.open(\"neural-networks-and-deep-learning/data/mnist.pkl.gz\",\"rb\") as f:\n",
    "        training_data,validation_data,test_data = pickle.load(f)\n",
    "    \n",
    "    return training_data,validation_data,test_data\n",
    "\n",
    "def load_data_wrapper():\n",
    "    \n",
    "    tr_d,va_d,te_d = load_data()\n",
    "    \n",
    "    training_inputs = [np.reshape(x,(784,1)) for x in tr_d[0]]\n",
    "    training_results = [vectorized_result(y) for y in tr_d[1]]\n",
    "    training_data = zip(training_inputs,training_results)\n",
    "    \n",
    "    validation_inputs = [np.reshape(x,(784,1)) for x in va_d[0]]\n",
    "    validation_data = zip(validation_inputs,va_d[1])\n",
    "    \n",
    "    test_inputs = [np.reshape(x,(784,1)) for x in te_d[0]]\n",
    "    test_data = zip(test_inputs,te_d[1])\n",
    "    \n",
    "    return (training_data,validation_data,test_data)\n",
    "\n",
    "def vectorized_result(j):\n",
    "    \n",
    "    e = np.zeros((10,1))\n",
    "    e[j] = 1.0\n",
    "    \n",
    "    return e"
   ]
  },
  {
   "cell_type": "markdown",
   "metadata": {},
   "source": [
    "Run the network"
   ]
  },
  {
   "cell_type": "code",
   "execution_count": 122,
   "metadata": {
    "collapsed": true
   },
   "outputs": [],
   "source": [
    "training_data,validation_data,test_data = load_data_wrapper()"
   ]
  },
  {
   "cell_type": "code",
   "execution_count": 140,
   "metadata": {
    "collapsed": true
   },
   "outputs": [],
   "source": [
    "net = Network([784,30,10])\n",
    "net.SGD(training_data,30,10,3.0,test_data = test_data)"
   ]
  },
  {
   "cell_type": "code",
   "execution_count": 145,
   "metadata": {
    "collapsed": false
   },
   "outputs": [
    {
     "name": "stdout",
     "output_type": "stream",
     "text": [
      "Epoch 0: 6510 / 10000\n",
      "Epoch 1: 7492 / 10000\n",
      "Epoch 2: 7548 / 10000\n",
      "Epoch 3: 7599 / 10000\n",
      "Epoch 4: 7639 / 10000\n",
      "Epoch 5: 7663 / 10000\n",
      "Epoch 6: 7676 / 10000\n",
      "Epoch 7: 7685 / 10000\n",
      "Epoch 8: 7702 / 10000\n",
      "Epoch 9: 7714 / 10000\n",
      "Epoch 10: 7715 / 10000\n",
      "Epoch 11: 7719 / 10000\n",
      "Epoch 12: 7736 / 10000\n",
      "Epoch 13: 7715 / 10000\n",
      "Epoch 14: 7754 / 10000\n",
      "Epoch 15: 7758 / 10000\n",
      "Epoch 16: 7743 / 10000\n",
      "Epoch 17: 7771 / 10000\n",
      "Epoch 18: 7760 / 10000\n",
      "Epoch 19: 7782 / 10000\n",
      "Epoch 20: 7757 / 10000\n",
      "Epoch 21: 7775 / 10000\n",
      "Epoch 22: 7791 / 10000\n",
      "Epoch 23: 7790 / 10000\n",
      "Epoch 24: 7790 / 10000\n",
      "Epoch 25: 7793 / 10000\n",
      "Epoch 26: 7825 / 10000\n",
      "Epoch 27: 7824 / 10000\n",
      "Epoch 28: 7833 / 10000\n",
      "Epoch 29: 7852 / 10000\n"
     ]
    }
   ],
   "source": [
    "net100 = Network([784,100,10])\n",
    "net100.SGD(training_data,30,10,3.0,test_data=test_data)"
   ]
  },
  {
   "cell_type": "code",
   "execution_count": 144,
   "metadata": {
    "collapsed": false
   },
   "outputs": [
    {
     "name": "stdout",
     "output_type": "stream",
     "text": [
      "Epoch 0: 6319 / 10000\n",
      "Epoch 1: 7024 / 10000\n",
      "Epoch 2: 7275 / 10000\n",
      "Epoch 3: 8177 / 10000\n",
      "Epoch 4: 8217 / 10000\n",
      "Epoch 5: 8246 / 10000\n",
      "Epoch 6: 8238 / 10000\n",
      "Epoch 7: 8235 / 10000\n",
      "Epoch 8: 8264 / 10000\n",
      "Epoch 9: 8263 / 10000\n",
      "Epoch 10: 8267 / 10000\n",
      "Epoch 11: 8329 / 10000\n",
      "Epoch 12: 9147 / 10000\n",
      "Epoch 13: 9134 / 10000\n",
      "Epoch 14: 9145 / 10000\n",
      "Epoch 15: 9156 / 10000\n",
      "Epoch 16: 9170 / 10000\n",
      "Epoch 17: 9171 / 10000\n",
      "Epoch 18: 9173 / 10000\n",
      "Epoch 19: 9167 / 10000\n",
      "Epoch 20: 9159 / 10000\n",
      "Epoch 21: 9162 / 10000\n",
      "Epoch 22: 9152 / 10000\n",
      "Epoch 23: 9184 / 10000\n",
      "Epoch 24: 9149 / 10000\n",
      "Epoch 25: 9160 / 10000\n",
      "Epoch 26: 9179 / 10000\n",
      "Epoch 27: 9150 / 10000\n",
      "Epoch 28: 9158 / 10000\n",
      "Epoch 29: 9169 / 10000\n"
     ]
    }
   ],
   "source": [
    "net2 = Network([784,10])\n",
    "net2.SGD(training_data,30,10,3.0,test_data=test_data)"
   ]
  },
  {
   "cell_type": "code",
   "execution_count": null,
   "metadata": {
    "collapsed": true
   },
   "outputs": [],
   "source": []
  }
 ],
 "metadata": {
  "kernelspec": {
   "display_name": "Python 2",
   "language": "python",
   "name": "python2"
  },
  "language_info": {
   "codemirror_mode": {
    "name": "ipython",
    "version": 2
   },
   "file_extension": ".py",
   "mimetype": "text/x-python",
   "name": "python",
   "nbconvert_exporter": "python",
   "pygments_lexer": "ipython2",
   "version": "2.7.12"
  }
 },
 "nbformat": 4,
 "nbformat_minor": 0
}
