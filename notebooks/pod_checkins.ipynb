{
 "cells": [
  {
   "cell_type": "markdown",
   "metadata": {},
   "source": [
    "# Statistics of pod check-ins\n",
    "\n",
    "### Kyle Willett\n",
    "#### 17 Jul 2016"
   ]
  },
  {
   "cell_type": "markdown",
   "metadata": {},
   "source": [
    "Jimmy noted last week that he and Noah got [slotted into the same pod](https://docs.google.com/spreadsheets/d/1hcAYWhCiq6PEbGZRuA_hn5Tn-XQgwoEDs7wy0IGrBdc/edit#gid=799152369) for daily check-ins three days in a row. That made me wonder how likely that was, and I thought it'd be a good stats problem. \n",
    "\n",
    "I tried tackling this using an analytical/combinatorial solution and didn't get to a reasonable answer (even with help from Amelia and Lois). So I decided to Monte Carlo it and see what the result was. "
   ]
  },
  {
   "cell_type": "markdown",
   "metadata": {},
   "source": [
    "**Question: what is the probability of ***any*** two people being in the same pod check-in at least three days in a row?**"
   ]
  },
  {
   "cell_type": "markdown",
   "metadata": {},
   "source": [
    "_My (very naive) prediction: I wasn't sure at all how likely this situation would be, other than the fact that it happened once (with what Katie and Jen assured us were random selections. So I'll guess that the odds are ~50%_. "
   ]
  },
  {
   "cell_type": "code",
   "execution_count": 1,
   "metadata": {
    "collapsed": true
   },
   "outputs": [],
   "source": [
    "import numpy as np"
   ]
  },
  {
   "cell_type": "code",
   "execution_count": 2,
   "metadata": {
    "collapsed": true
   },
   "outputs": [],
   "source": [
    "# Parameters for this problem\n",
    "\n",
    "N = 10000               # Number of trials to run\n",
    "\n",
    "n_people = 15           # Number of individual people to schedule\n",
    "n_groups = 5            # Number of groups per day\n",
    "n_days = 5              # Number of days with scheduled groups\n",
    "n_inarow = 3            # Number of days in a row in which two people the same pod (target)"
   ]
  },
  {
   "cell_type": "code",
   "execution_count": 3,
   "metadata": {
    "collapsed": true
   },
   "outputs": [],
   "source": [
    "# Set up the initial schedule\n",
    "people = range(n_people)\n",
    "modval = n_people//n_groups\n",
    "sched = np.mgrid[0:n_days,0:n_people][1,:,:]"
   ]
  },
  {
   "cell_type": "code",
   "execution_count": 4,
   "metadata": {
    "collapsed": true
   },
   "outputs": [],
   "source": [
    "# A couple of useful print functions for later on\n",
    "\n",
    "def breakline():\n",
    "\n",
    "    print \"------------------------------------------\" \n",
    "\n",
    "def print_example(s):\n",
    "    breakline()\n",
    "    header = [\"Day {:d}\\t\".format(x+1) for x in range(n_days)]\n",
    "    print ' '.join(header)\n",
    "    for idx,row in enumerate(s.T):\n",
    "        if not idx % modval:\n",
    "            breakline()\n",
    "        print \"{}\\t{}\\t{}\\t{}\\t{}\\t\".format(*row)\n",
    "    breakline()"
   ]
  },
  {
   "cell_type": "code",
   "execution_count": 5,
   "metadata": {
    "collapsed": true
   },
   "outputs": [],
   "source": [
    "# The actual Monte Carlo loop\n",
    "\n",
    "def run_trials(N,verbose=False):\n",
    "\n",
    "    foundone = 0\n",
    "    successful_example,params = None,None\n",
    "\n",
    "    for i in range(N):\n",
    "    \n",
    "        # Randomly shuffle the groups in place for each day\n",
    "        map(np.random.shuffle,sched)\n",
    "    \n",
    "        # Set if successful match was found in this trial\n",
    "        threeinarow = False\n",
    "    \n",
    "        # Keep looking through possible pairs until one is found\n",
    "        keep_looking = True\n",
    "        while keep_looking:\n",
    "            for person1 in people:\n",
    "    \n",
    "                # Groups for Person #1\n",
    "                groups_p1 = [list(row).index(person1)//modval for row in sched]\n",
    "    \n",
    "                for person2 in people:\n",
    "                    # Can't compare to oneself\n",
    "                    if person1 != person2:\n",
    "                        # Groups for Person #2\n",
    "                        groups_p2 = [list(row).index(person2)//modval for row in sched]\n",
    "    \n",
    "                        # Look over each sliding window of N days for a match\n",
    "                        for j in range(n_days - n_inarow + 1):\n",
    "                            sumarr = [x-y for x,y in zip(groups_p1,groups_p2)]\n",
    "    \n",
    "                            # Check if conditions match\n",
    "                            if all(s is 0 for s in sumarr[j:j+n_inarow]):\n",
    "                                threeinarow = True\n",
    "                                successful_example = sched[::]\n",
    "                                params = (person1,person2,j+1,j+n_inarow)\n",
    "    \n",
    "                                if verbose:\n",
    "                                    print \"\\nPersons {} and {} on Days {}-{}\".format(\n",
    "                                        person1,person2,j+1,j+n_inarow)\n",
    "                                    print_example(sched)\n",
    "    \n",
    "                                # Found a match; can stop looking in this trial\n",
    "                                keep_looking = False\n",
    "    \n",
    "            # No pairs on consecutive days found in this trial; exit the loop.\n",
    "            keep_looking = False\n",
    "    \n",
    "        # Mark that this trial was successful\n",
    "        if threeinarow:\n",
    "            foundone += 1\n",
    "\n",
    "    return foundone,successful_example,params"
   ]
  },
  {
   "cell_type": "code",
   "execution_count": 6,
   "metadata": {
    "collapsed": false
   },
   "outputs": [
    {
     "name": "stdout",
     "output_type": "stream",
     "text": [
      "Example of a successful trial:\n",
      "\n",
      "Persons 9 and 2 are on the same pod on Days 1-3\n",
      "------------------------------------------\n",
      "Day 1\t Day 2\t Day 3\t Day 4\t Day 5\t\n",
      "------------------------------------------\n",
      "9\t3\t13\t11\t1\t\n",
      "14\t0\t8\t6\t9\t\n",
      "2\t8\t6\t2\t0\t\n",
      "------------------------------------------\n",
      "7\t2\t12\t14\t11\t\n",
      "8\t9\t10\t7\t5\t\n",
      "1\t12\t3\t5\t14\t\n",
      "------------------------------------------\n",
      "12\t13\t2\t0\t12\t\n",
      "4\t6\t5\t8\t6\t\n",
      "3\t7\t9\t13\t8\t\n",
      "------------------------------------------\n",
      "10\t11\t11\t10\t7\t\n",
      "0\t10\t1\t3\t4\t\n",
      "6\t14\t14\t9\t3\t\n",
      "------------------------------------------\n",
      "11\t4\t0\t4\t2\t\n",
      "5\t5\t4\t12\t10\t\n",
      "13\t1\t7\t1\t13\t\n",
      "------------------------------------------\n",
      "\n",
      "57.5% of the time, two people are in the same group at least three days in a row.\n",
      "\n"
     ]
    }
   ],
   "source": [
    "# Run trials and report result\n",
    "\n",
    "successes,example,params = run_trials(N,verbose=False)\n",
    "\n",
    "print \"Example of a successful trial:\"\n",
    "print \"\\nPersons {} and {} are on the same pod on Days {}-{}\".format(*params)\n",
    "print_example(example)\n",
    "\n",
    "print \"\\n{:.1f}% of the time, two people are \\\n",
    "in the same group at least three days in a row.\\n\".format(\n",
    "    successes /float(N)*100.)"
   ]
  },
  {
   "cell_type": "markdown",
   "metadata": {},
   "source": [
    "That is shockingly close to my naive prediction. I'd still really love to get a proper mathematical justification of this result, but it's very much in line with the observed sample size of 1 success in 1 trial. "
   ]
  },
  {
   "cell_type": "code",
   "execution_count": null,
   "metadata": {
    "collapsed": true
   },
   "outputs": [],
   "source": []
  }
 ],
 "metadata": {
  "kernelspec": {
   "display_name": "Python 2",
   "language": "python",
   "name": "python2"
  },
  "language_info": {
   "codemirror_mode": {
    "name": "ipython",
    "version": 2
   },
   "file_extension": ".py",
   "mimetype": "text/x-python",
   "name": "python",
   "nbconvert_exporter": "python",
   "pygments_lexer": "ipython2",
   "version": "2.7.11"
  }
 },
 "nbformat": 4,
 "nbformat_minor": 0
}
